{
 "cells": [
  {
   "cell_type": "code",
   "execution_count": 1,
   "id": "bcb11244",
   "metadata": {},
   "outputs": [],
   "source": [
    "# Features (1: sim, 0: não)\n",
    "# Features 1. Pelo Longo? 2. Perna Curta? 3. Faz auau ?\n",
    "\n",
    "# O porco 1 não tem pelo longo, tem perna curta e não faz auau\n",
    "porco1 = [0,1,0]\n",
    "porco2 = [0,1,1]\n",
    "porco3 = [1,1,0]\n",
    "\n",
    "# O cachorro 1 não tem pelo longo, tem perna curta e faz auau\n",
    "cachorro1 = [0,1,1]\n",
    "cachorro2 = [1,0,1]\n",
    "cachorro3 = [1,1,1]\n",
    "\n",
    "# Os porcos são representados como 1 e os cachorros como 0\n",
    "dados = [porco1, porco2, porco3, cachorro1, cachorro2, cachorro3]\n",
    "classes = [1,1,1,0,0,0]"
   ]
  },
  {
   "cell_type": "code",
   "execution_count": 2,
   "id": "642a5068",
   "metadata": {},
   "outputs": [
    {
     "data": {
      "text/plain": [
       "LinearSVC()"
      ]
     },
     "execution_count": 2,
     "metadata": {},
     "output_type": "execute_result"
    }
   ],
   "source": [
    "from sklearn.svm import LinearSVC\n",
    "\n",
    "# .fit pega os dados de entrada e as classes que foram separados esses dados\n",
    "model = LinearSVC()\n",
    "model.fit(dados, classes)"
   ]
  },
  {
   "cell_type": "code",
   "execution_count": 5,
   "id": "bbd6d59e",
   "metadata": {},
   "outputs": [
    {
     "data": {
      "text/plain": [
       "array([0])"
      ]
     },
     "execution_count": 5,
     "metadata": {},
     "output_type": "execute_result"
    }
   ],
   "source": [
    "# Testando um animal misterioso que tem pelo longo, perna curta e faz auau\n",
    "# 0 representa um cachorro (acerto)\n",
    "animal_misterioso = [1,1,1]\n",
    "model.predict([animal_misterioso])"
   ]
  },
  {
   "cell_type": "code",
   "execution_count": 15,
   "id": "f891c291",
   "metadata": {},
   "outputs": [
    {
     "data": {
      "text/plain": [
       "array([0, 1, 0])"
      ]
     },
     "execution_count": 15,
     "metadata": {},
     "output_type": "execute_result"
    }
   ],
   "source": [
    "# Pegando varios animais com as features\n",
    "misterio1 = [1,1,1]\n",
    "misterio2 = [1,1,0]\n",
    "misterio3 = [0,1,1]\n",
    "\n",
    "# Coloca numa lista semelhante a dados da primeira celula\n",
    "testes = [misterio1, misterio2, misterio3]\n",
    "\n",
    "# Prever os resultados desses testes, algoritmo erra o misterio3\n",
    "previsoes = model.predict(testes)\n",
    "previsoes"
   ]
  },
  {
   "cell_type": "code",
   "execution_count": 8,
   "id": "ae3d9cb7",
   "metadata": {},
   "outputs": [],
   "source": [
    "# O teste correto seria esse\n",
    "testes_classes = [0, 1, 1]"
   ]
  },
  {
   "cell_type": "code",
   "execution_count": 9,
   "id": "76b9d696",
   "metadata": {},
   "outputs": [
    {
     "data": {
      "text/plain": [
       "array([ True,  True, False])"
      ]
     },
     "execution_count": 9,
     "metadata": {},
     "output_type": "execute_result"
    }
   ],
   "source": [
    "# Comparando os resultados do algoritmo com o teste correto\n",
    "previsoes == testes_classes"
   ]
  },
  {
   "cell_type": "code",
   "execution_count": 13,
   "id": "827ddd15",
   "metadata": {},
   "outputs": [
    {
     "name": "stdout",
     "output_type": "stream",
     "text": [
      "Taxa de Acerto:  66.66666666666666 %\n"
     ]
    }
   ],
   "source": [
    "# Calculando acuracia do modelo usando matematica\n",
    "numero_de_acertos = (previsoes == testes_classes).sum()\n",
    "total = len(testes)\n",
    "taxa_acerto = numero_de_acertos/total\n",
    "print(\"Taxa de Acerto: \",taxa_acerto * 100,'%')"
   ]
  },
  {
   "cell_type": "code",
   "execution_count": 19,
   "id": "26205dbb",
   "metadata": {},
   "outputs": [
    {
     "name": "stdout",
     "output_type": "stream",
     "text": [
      "Taxa de Acerto:  66.67 %\n"
     ]
    }
   ],
   "source": [
    "# Calculando acuracia do modelo usando função do SKLearn\n",
    "from sklearn.metrics import accuracy_score\n",
    "\n",
    "taxa_acerto = accuracy_score(testes_classes, previsoes)\n",
    "print(\"Taxa de Acerto: \",round(taxa_acerto * 100,2),'%')"
   ]
  },
  {
   "cell_type": "code",
   "execution_count": 20,
   "id": "24be78a3",
   "metadata": {},
   "outputs": [
    {
     "name": "stdout",
     "output_type": "stream",
     "text": [
      "Taxa de Acerto:  66.67 %\n"
     ]
    }
   ],
   "source": [
    "# Os porcos são representados como 1 e os cachorros como 0\n",
    "treino_x = [porco1, porco2, porco3, cachorro1, cachorro2, cachorro3]\n",
    "treino_y = [1,1,1,0,0,0] # labels/etiqueta\n",
    "\n",
    "model = LinearSVC()\n",
    "model.fit(treino_x, treino_y)\n",
    "\n",
    "teste_x = [misterio1, misterio2, misterio3]\n",
    "teste_y = [0, 1, 1]\n",
    "previsoes = model.predict(teste_x)\n",
    "\n",
    "taxa_acerto = accuracy_score(teste_y, previsoes)\n",
    "print(\"Taxa de Acerto: \",round(taxa_acerto * 100,2),'%')"
   ]
  }
 ],
 "metadata": {
  "kernelspec": {
   "display_name": "Python 3 (ipykernel)",
   "language": "python",
   "name": "python3"
  },
  "language_info": {
   "codemirror_mode": {
    "name": "ipython",
    "version": 3
   },
   "file_extension": ".py",
   "mimetype": "text/x-python",
   "name": "python",
   "nbconvert_exporter": "python",
   "pygments_lexer": "ipython3",
   "version": "3.9.12"
  }
 },
 "nbformat": 4,
 "nbformat_minor": 5
}
