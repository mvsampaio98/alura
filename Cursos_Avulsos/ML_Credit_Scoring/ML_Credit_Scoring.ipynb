{
 "cells": [
  {
   "cell_type": "code",
   "execution_count": 2,
   "id": "b6bd632f",
   "metadata": {},
   "outputs": [
    {
     "data": {
      "text/html": [
       "<div>\n",
       "<style scoped>\n",
       "    .dataframe tbody tr th:only-of-type {\n",
       "        vertical-align: middle;\n",
       "    }\n",
       "\n",
       "    .dataframe tbody tr th {\n",
       "        vertical-align: top;\n",
       "    }\n",
       "\n",
       "    .dataframe thead th {\n",
       "        text-align: right;\n",
       "    }\n",
       "</style>\n",
       "<table border=\"1\" class=\"dataframe\">\n",
       "  <thead>\n",
       "    <tr style=\"text-align: right;\">\n",
       "      <th></th>\n",
       "      <th>default</th>\n",
       "      <th>conta_corrente</th>\n",
       "      <th>prazo_emprestimo_meses</th>\n",
       "      <th>historico_credito</th>\n",
       "      <th>proposito_emprestimo</th>\n",
       "      <th>valor_emprestimo</th>\n",
       "      <th>reserva_cc</th>\n",
       "      <th>tempo_emprego_atual</th>\n",
       "      <th>taxa_comp_salario</th>\n",
       "      <th>sexo_est_civil</th>\n",
       "      <th>...</th>\n",
       "      <th>anos_residencia_atual</th>\n",
       "      <th>propriedade</th>\n",
       "      <th>idade</th>\n",
       "      <th>outros_planos_financiamento</th>\n",
       "      <th>tipo_residencia</th>\n",
       "      <th>n_creditos_banco</th>\n",
       "      <th>status_emprego</th>\n",
       "      <th>n_dependentes</th>\n",
       "      <th>telefone</th>\n",
       "      <th>trabalhador_estrangeiro</th>\n",
       "    </tr>\n",
       "  </thead>\n",
       "  <tbody>\n",
       "    <tr>\n",
       "      <th>0</th>\n",
       "      <td>0</td>\n",
       "      <td>&lt; 0 DM</td>\n",
       "      <td>6</td>\n",
       "      <td>critical account/ other credits existing (not ...</td>\n",
       "      <td>domestic appliances</td>\n",
       "      <td>1169</td>\n",
       "      <td>unknown/ no savings account</td>\n",
       "      <td>.. &gt;= 7 years</td>\n",
       "      <td>4</td>\n",
       "      <td>male : single</td>\n",
       "      <td>...</td>\n",
       "      <td>4</td>\n",
       "      <td>real estate</td>\n",
       "      <td>67</td>\n",
       "      <td>none</td>\n",
       "      <td>own</td>\n",
       "      <td>2</td>\n",
       "      <td>skilled employee / official</td>\n",
       "      <td>1</td>\n",
       "      <td>yes, registered under the customers name</td>\n",
       "      <td>yes</td>\n",
       "    </tr>\n",
       "    <tr>\n",
       "      <th>1</th>\n",
       "      <td>1</td>\n",
       "      <td>0 &lt;= ... &lt; 200 DM</td>\n",
       "      <td>48</td>\n",
       "      <td>existing credits paid back duly till now</td>\n",
       "      <td>domestic appliances</td>\n",
       "      <td>5951</td>\n",
       "      <td>... &lt; 100 DM</td>\n",
       "      <td>1 &lt;= ... &lt; 4 years</td>\n",
       "      <td>2</td>\n",
       "      <td>female : divorced/separated/married</td>\n",
       "      <td>...</td>\n",
       "      <td>2</td>\n",
       "      <td>real estate</td>\n",
       "      <td>22</td>\n",
       "      <td>none</td>\n",
       "      <td>own</td>\n",
       "      <td>1</td>\n",
       "      <td>skilled employee / official</td>\n",
       "      <td>1</td>\n",
       "      <td>none</td>\n",
       "      <td>yes</td>\n",
       "    </tr>\n",
       "    <tr>\n",
       "      <th>2</th>\n",
       "      <td>0</td>\n",
       "      <td>no checking account</td>\n",
       "      <td>12</td>\n",
       "      <td>critical account/ other credits existing (not ...</td>\n",
       "      <td>(vacation - does not exist?)</td>\n",
       "      <td>2096</td>\n",
       "      <td>... &lt; 100 DM</td>\n",
       "      <td>4 &lt;= ... &lt; 7 years</td>\n",
       "      <td>2</td>\n",
       "      <td>male : single</td>\n",
       "      <td>...</td>\n",
       "      <td>3</td>\n",
       "      <td>real estate</td>\n",
       "      <td>49</td>\n",
       "      <td>none</td>\n",
       "      <td>own</td>\n",
       "      <td>1</td>\n",
       "      <td>unskilled - resident</td>\n",
       "      <td>2</td>\n",
       "      <td>none</td>\n",
       "      <td>yes</td>\n",
       "    </tr>\n",
       "    <tr>\n",
       "      <th>3</th>\n",
       "      <td>0</td>\n",
       "      <td>&lt; 0 DM</td>\n",
       "      <td>42</td>\n",
       "      <td>existing credits paid back duly till now</td>\n",
       "      <td>radio/television</td>\n",
       "      <td>7882</td>\n",
       "      <td>... &lt; 100 DM</td>\n",
       "      <td>4 &lt;= ... &lt; 7 years</td>\n",
       "      <td>2</td>\n",
       "      <td>male : single</td>\n",
       "      <td>...</td>\n",
       "      <td>4</td>\n",
       "      <td>if not A121 : building society savings agreeme...</td>\n",
       "      <td>45</td>\n",
       "      <td>none</td>\n",
       "      <td>for free</td>\n",
       "      <td>1</td>\n",
       "      <td>skilled employee / official</td>\n",
       "      <td>2</td>\n",
       "      <td>none</td>\n",
       "      <td>yes</td>\n",
       "    </tr>\n",
       "    <tr>\n",
       "      <th>4</th>\n",
       "      <td>1</td>\n",
       "      <td>&lt; 0 DM</td>\n",
       "      <td>24</td>\n",
       "      <td>delay in paying off in the past</td>\n",
       "      <td>car (new)</td>\n",
       "      <td>4870</td>\n",
       "      <td>... &lt; 100 DM</td>\n",
       "      <td>1 &lt;= ... &lt; 4 years</td>\n",
       "      <td>3</td>\n",
       "      <td>male : single</td>\n",
       "      <td>...</td>\n",
       "      <td>4</td>\n",
       "      <td>unknown / no property</td>\n",
       "      <td>53</td>\n",
       "      <td>none</td>\n",
       "      <td>for free</td>\n",
       "      <td>2</td>\n",
       "      <td>skilled employee / official</td>\n",
       "      <td>2</td>\n",
       "      <td>none</td>\n",
       "      <td>yes</td>\n",
       "    </tr>\n",
       "  </tbody>\n",
       "</table>\n",
       "<p>5 rows × 21 columns</p>\n",
       "</div>"
      ],
      "text/plain": [
       "   default       conta_corrente  prazo_emprestimo_meses  \\\n",
       "0        0               < 0 DM                       6   \n",
       "1        1    0 <= ... < 200 DM                      48   \n",
       "2        0  no checking account                      12   \n",
       "3        0               < 0 DM                      42   \n",
       "4        1               < 0 DM                      24   \n",
       "\n",
       "                                   historico_credito  \\\n",
       "0  critical account/ other credits existing (not ...   \n",
       "1           existing credits paid back duly till now   \n",
       "2  critical account/ other credits existing (not ...   \n",
       "3           existing credits paid back duly till now   \n",
       "4                    delay in paying off in the past   \n",
       "\n",
       "           proposito_emprestimo  valor_emprestimo  \\\n",
       "0           domestic appliances              1169   \n",
       "1           domestic appliances              5951   \n",
       "2  (vacation - does not exist?)              2096   \n",
       "3              radio/television              7882   \n",
       "4                     car (new)              4870   \n",
       "\n",
       "                    reserva_cc tempo_emprego_atual  taxa_comp_salario  \\\n",
       "0  unknown/ no savings account       .. >= 7 years                  4   \n",
       "1                 ... < 100 DM  1 <= ... < 4 years                  2   \n",
       "2                 ... < 100 DM  4 <= ... < 7 years                  2   \n",
       "3                 ... < 100 DM  4 <= ... < 7 years                  2   \n",
       "4                 ... < 100 DM  1 <= ... < 4 years                  3   \n",
       "\n",
       "                        sexo_est_civil  ... anos_residencia_atual  \\\n",
       "0                        male : single  ...                     4   \n",
       "1  female : divorced/separated/married  ...                     2   \n",
       "2                        male : single  ...                     3   \n",
       "3                        male : single  ...                     4   \n",
       "4                        male : single  ...                     4   \n",
       "\n",
       "                                         propriedade idade  \\\n",
       "0                                        real estate    67   \n",
       "1                                        real estate    22   \n",
       "2                                        real estate    49   \n",
       "3  if not A121 : building society savings agreeme...    45   \n",
       "4                              unknown / no property    53   \n",
       "\n",
       "   outros_planos_financiamento tipo_residencia n_creditos_banco  \\\n",
       "0                         none             own                2   \n",
       "1                         none             own                1   \n",
       "2                         none             own                1   \n",
       "3                         none        for free                1   \n",
       "4                         none        for free                2   \n",
       "\n",
       "                status_emprego n_dependentes  \\\n",
       "0  skilled employee / official             1   \n",
       "1  skilled employee / official             1   \n",
       "2         unskilled - resident             2   \n",
       "3  skilled employee / official             2   \n",
       "4  skilled employee / official             2   \n",
       "\n",
       "                                    telefone trabalhador_estrangeiro  \n",
       "0  yes, registered under the customers name                      yes  \n",
       "1                                       none                     yes  \n",
       "2                                       none                     yes  \n",
       "3                                       none                     yes  \n",
       "4                                       none                     yes  \n",
       "\n",
       "[5 rows x 21 columns]"
      ]
     },
     "execution_count": 2,
     "metadata": {},
     "output_type": "execute_result"
    }
   ],
   "source": [
    "import pandas as pd\n",
    "dados = pd.read_csv('data/base_dados_traduzida.csv')\n",
    "dados.head()"
   ]
  },
  {
   "cell_type": "code",
   "execution_count": 3,
   "id": "d2e39d11",
   "metadata": {},
   "outputs": [
    {
     "name": "stdout",
     "output_type": "stream",
     "text": [
      "<class 'pandas.core.frame.DataFrame'>\n",
      "RangeIndex: 1000 entries, 0 to 999\n",
      "Data columns (total 21 columns):\n",
      " #   Column                       Non-Null Count  Dtype \n",
      "---  ------                       --------------  ----- \n",
      " 0   default                      1000 non-null   int64 \n",
      " 1   conta_corrente               1000 non-null   object\n",
      " 2   prazo_emprestimo_meses       1000 non-null   int64 \n",
      " 3   historico_credito            1000 non-null   object\n",
      " 4   proposito_emprestimo         1000 non-null   object\n",
      " 5   valor_emprestimo             1000 non-null   int64 \n",
      " 6   reserva_cc                   1000 non-null   object\n",
      " 7   tempo_emprego_atual          1000 non-null   object\n",
      " 8   taxa_comp_salario            1000 non-null   int64 \n",
      " 9   sexo_est_civil               1000 non-null   object\n",
      " 10  outros_fiadores              1000 non-null   object\n",
      " 11  anos_residencia_atual        1000 non-null   int64 \n",
      " 12  propriedade                  1000 non-null   object\n",
      " 13  idade                        1000 non-null   int64 \n",
      " 14  outros_planos_financiamento  1000 non-null   object\n",
      " 15  tipo_residencia              1000 non-null   object\n",
      " 16  n_creditos_banco             1000 non-null   int64 \n",
      " 17  status_emprego               1000 non-null   object\n",
      " 18  n_dependentes                1000 non-null   int64 \n",
      " 19  telefone                     1000 non-null   object\n",
      " 20  trabalhador_estrangeiro      1000 non-null   object\n",
      "dtypes: int64(8), object(13)\n",
      "memory usage: 164.2+ KB\n"
     ]
    }
   ],
   "source": [
    "dados.info()"
   ]
  },
  {
   "cell_type": "code",
   "execution_count": 4,
   "id": "16f33cae",
   "metadata": {},
   "outputs": [
    {
     "name": "stdout",
     "output_type": "stream",
     "text": [
      "A base de dados tem 1000 linhas e 21 colunas\n"
     ]
    }
   ],
   "source": [
    "linhas = dados.shape[0]\n",
    "colunas = dados.shape[1]\n",
    "print('A base de dados tem {} linhas e {} colunas'.format(linhas,colunas))"
   ]
  },
  {
   "cell_type": "code",
   "execution_count": 5,
   "id": "92098b8c",
   "metadata": {},
   "outputs": [
    {
     "name": "stdout",
     "output_type": "stream",
     "text": [
      "A base de dados tem 0 dados duplicados\n"
     ]
    }
   ],
   "source": [
    "duplicados = dados.duplicated()\n",
    "duplicados = duplicados.sum()\n",
    "\n",
    "print('A base de dados tem {} dados duplicados'.format(duplicados))"
   ]
  },
  {
   "cell_type": "code",
   "execution_count": 9,
   "id": "77c1c7dd",
   "metadata": {},
   "outputs": [
    {
     "data": {
      "text/plain": [
       "default                        0\n",
       "conta_corrente                 0\n",
       "prazo_emprestimo_meses         0\n",
       "historico_credito              0\n",
       "proposito_emprestimo           0\n",
       "valor_emprestimo               0\n",
       "reserva_cc                     0\n",
       "tempo_emprego_atual            0\n",
       "taxa_comp_salario              0\n",
       "sexo_est_civil                 0\n",
       "outros_fiadores                0\n",
       "anos_residencia_atual          0\n",
       "propriedade                    0\n",
       "idade                          0\n",
       "outros_planos_financiamento    0\n",
       "tipo_residencia                0\n",
       "n_creditos_banco               0\n",
       "status_emprego                 0\n",
       "n_dependentes                  0\n",
       "telefone                       0\n",
       "trabalhador_estrangeiro        0\n",
       "dtype: int64"
      ]
     },
     "execution_count": 9,
     "metadata": {},
     "output_type": "execute_result"
    }
   ],
   "source": [
    "nulos = dados.isnull().sum()\n",
    "nulos"
   ]
  },
  {
   "cell_type": "code",
   "execution_count": 10,
   "id": "5702abc0",
   "metadata": {},
   "outputs": [
    {
     "data": {
      "text/plain": [
       "0    0\n",
       "1    1\n",
       "2    0\n",
       "3    0\n",
       "4    1\n",
       "Name: default, dtype: int64"
      ]
     },
     "execution_count": 10,
     "metadata": {},
     "output_type": "execute_result"
    }
   ],
   "source": [
    "y = dados['default']\n",
    "y.head()"
   ]
  },
  {
   "cell_type": "code",
   "execution_count": 11,
   "id": "ef1e064e",
   "metadata": {},
   "outputs": [
    {
     "data": {
      "text/html": [
       "<div>\n",
       "<style scoped>\n",
       "    .dataframe tbody tr th:only-of-type {\n",
       "        vertical-align: middle;\n",
       "    }\n",
       "\n",
       "    .dataframe tbody tr th {\n",
       "        vertical-align: top;\n",
       "    }\n",
       "\n",
       "    .dataframe thead th {\n",
       "        text-align: right;\n",
       "    }\n",
       "</style>\n",
       "<table border=\"1\" class=\"dataframe\">\n",
       "  <thead>\n",
       "    <tr style=\"text-align: right;\">\n",
       "      <th></th>\n",
       "      <th>conta_corrente</th>\n",
       "      <th>prazo_emprestimo_meses</th>\n",
       "      <th>historico_credito</th>\n",
       "      <th>proposito_emprestimo</th>\n",
       "      <th>valor_emprestimo</th>\n",
       "      <th>reserva_cc</th>\n",
       "      <th>tempo_emprego_atual</th>\n",
       "      <th>taxa_comp_salario</th>\n",
       "      <th>sexo_est_civil</th>\n",
       "      <th>outros_fiadores</th>\n",
       "      <th>anos_residencia_atual</th>\n",
       "      <th>propriedade</th>\n",
       "      <th>idade</th>\n",
       "      <th>outros_planos_financiamento</th>\n",
       "      <th>tipo_residencia</th>\n",
       "      <th>n_creditos_banco</th>\n",
       "      <th>status_emprego</th>\n",
       "      <th>n_dependentes</th>\n",
       "      <th>telefone</th>\n",
       "      <th>trabalhador_estrangeiro</th>\n",
       "    </tr>\n",
       "  </thead>\n",
       "  <tbody>\n",
       "    <tr>\n",
       "      <th>0</th>\n",
       "      <td>&lt; 0 DM</td>\n",
       "      <td>6</td>\n",
       "      <td>critical account/ other credits existing (not ...</td>\n",
       "      <td>domestic appliances</td>\n",
       "      <td>1169</td>\n",
       "      <td>unknown/ no savings account</td>\n",
       "      <td>.. &gt;= 7 years</td>\n",
       "      <td>4</td>\n",
       "      <td>male : single</td>\n",
       "      <td>none</td>\n",
       "      <td>4</td>\n",
       "      <td>real estate</td>\n",
       "      <td>67</td>\n",
       "      <td>none</td>\n",
       "      <td>own</td>\n",
       "      <td>2</td>\n",
       "      <td>skilled employee / official</td>\n",
       "      <td>1</td>\n",
       "      <td>yes, registered under the customers name</td>\n",
       "      <td>yes</td>\n",
       "    </tr>\n",
       "    <tr>\n",
       "      <th>1</th>\n",
       "      <td>0 &lt;= ... &lt; 200 DM</td>\n",
       "      <td>48</td>\n",
       "      <td>existing credits paid back duly till now</td>\n",
       "      <td>domestic appliances</td>\n",
       "      <td>5951</td>\n",
       "      <td>... &lt; 100 DM</td>\n",
       "      <td>1 &lt;= ... &lt; 4 years</td>\n",
       "      <td>2</td>\n",
       "      <td>female : divorced/separated/married</td>\n",
       "      <td>none</td>\n",
       "      <td>2</td>\n",
       "      <td>real estate</td>\n",
       "      <td>22</td>\n",
       "      <td>none</td>\n",
       "      <td>own</td>\n",
       "      <td>1</td>\n",
       "      <td>skilled employee / official</td>\n",
       "      <td>1</td>\n",
       "      <td>none</td>\n",
       "      <td>yes</td>\n",
       "    </tr>\n",
       "    <tr>\n",
       "      <th>2</th>\n",
       "      <td>no checking account</td>\n",
       "      <td>12</td>\n",
       "      <td>critical account/ other credits existing (not ...</td>\n",
       "      <td>(vacation - does not exist?)</td>\n",
       "      <td>2096</td>\n",
       "      <td>... &lt; 100 DM</td>\n",
       "      <td>4 &lt;= ... &lt; 7 years</td>\n",
       "      <td>2</td>\n",
       "      <td>male : single</td>\n",
       "      <td>none</td>\n",
       "      <td>3</td>\n",
       "      <td>real estate</td>\n",
       "      <td>49</td>\n",
       "      <td>none</td>\n",
       "      <td>own</td>\n",
       "      <td>1</td>\n",
       "      <td>unskilled - resident</td>\n",
       "      <td>2</td>\n",
       "      <td>none</td>\n",
       "      <td>yes</td>\n",
       "    </tr>\n",
       "    <tr>\n",
       "      <th>3</th>\n",
       "      <td>&lt; 0 DM</td>\n",
       "      <td>42</td>\n",
       "      <td>existing credits paid back duly till now</td>\n",
       "      <td>radio/television</td>\n",
       "      <td>7882</td>\n",
       "      <td>... &lt; 100 DM</td>\n",
       "      <td>4 &lt;= ... &lt; 7 years</td>\n",
       "      <td>2</td>\n",
       "      <td>male : single</td>\n",
       "      <td>guarantor</td>\n",
       "      <td>4</td>\n",
       "      <td>if not A121 : building society savings agreeme...</td>\n",
       "      <td>45</td>\n",
       "      <td>none</td>\n",
       "      <td>for free</td>\n",
       "      <td>1</td>\n",
       "      <td>skilled employee / official</td>\n",
       "      <td>2</td>\n",
       "      <td>none</td>\n",
       "      <td>yes</td>\n",
       "    </tr>\n",
       "    <tr>\n",
       "      <th>4</th>\n",
       "      <td>&lt; 0 DM</td>\n",
       "      <td>24</td>\n",
       "      <td>delay in paying off in the past</td>\n",
       "      <td>car (new)</td>\n",
       "      <td>4870</td>\n",
       "      <td>... &lt; 100 DM</td>\n",
       "      <td>1 &lt;= ... &lt; 4 years</td>\n",
       "      <td>3</td>\n",
       "      <td>male : single</td>\n",
       "      <td>none</td>\n",
       "      <td>4</td>\n",
       "      <td>unknown / no property</td>\n",
       "      <td>53</td>\n",
       "      <td>none</td>\n",
       "      <td>for free</td>\n",
       "      <td>2</td>\n",
       "      <td>skilled employee / official</td>\n",
       "      <td>2</td>\n",
       "      <td>none</td>\n",
       "      <td>yes</td>\n",
       "    </tr>\n",
       "  </tbody>\n",
       "</table>\n",
       "</div>"
      ],
      "text/plain": [
       "        conta_corrente  prazo_emprestimo_meses  \\\n",
       "0               < 0 DM                       6   \n",
       "1    0 <= ... < 200 DM                      48   \n",
       "2  no checking account                      12   \n",
       "3               < 0 DM                      42   \n",
       "4               < 0 DM                      24   \n",
       "\n",
       "                                   historico_credito  \\\n",
       "0  critical account/ other credits existing (not ...   \n",
       "1           existing credits paid back duly till now   \n",
       "2  critical account/ other credits existing (not ...   \n",
       "3           existing credits paid back duly till now   \n",
       "4                    delay in paying off in the past   \n",
       "\n",
       "           proposito_emprestimo  valor_emprestimo  \\\n",
       "0           domestic appliances              1169   \n",
       "1           domestic appliances              5951   \n",
       "2  (vacation - does not exist?)              2096   \n",
       "3              radio/television              7882   \n",
       "4                     car (new)              4870   \n",
       "\n",
       "                    reserva_cc tempo_emprego_atual  taxa_comp_salario  \\\n",
       "0  unknown/ no savings account       .. >= 7 years                  4   \n",
       "1                 ... < 100 DM  1 <= ... < 4 years                  2   \n",
       "2                 ... < 100 DM  4 <= ... < 7 years                  2   \n",
       "3                 ... < 100 DM  4 <= ... < 7 years                  2   \n",
       "4                 ... < 100 DM  1 <= ... < 4 years                  3   \n",
       "\n",
       "                        sexo_est_civil outros_fiadores  anos_residencia_atual  \\\n",
       "0                        male : single            none                      4   \n",
       "1  female : divorced/separated/married            none                      2   \n",
       "2                        male : single            none                      3   \n",
       "3                        male : single       guarantor                      4   \n",
       "4                        male : single            none                      4   \n",
       "\n",
       "                                         propriedade  idade  \\\n",
       "0                                        real estate     67   \n",
       "1                                        real estate     22   \n",
       "2                                        real estate     49   \n",
       "3  if not A121 : building society savings agreeme...     45   \n",
       "4                              unknown / no property     53   \n",
       "\n",
       "  outros_planos_financiamento tipo_residencia  n_creditos_banco  \\\n",
       "0                        none             own                 2   \n",
       "1                        none             own                 1   \n",
       "2                        none             own                 1   \n",
       "3                        none        for free                 1   \n",
       "4                        none        for free                 2   \n",
       "\n",
       "                status_emprego  n_dependentes  \\\n",
       "0  skilled employee / official              1   \n",
       "1  skilled employee / official              1   \n",
       "2         unskilled - resident              2   \n",
       "3  skilled employee / official              2   \n",
       "4  skilled employee / official              2   \n",
       "\n",
       "                                    telefone trabalhador_estrangeiro  \n",
       "0  yes, registered under the customers name                      yes  \n",
       "1                                       none                     yes  \n",
       "2                                       none                     yes  \n",
       "3                                       none                     yes  \n",
       "4                                       none                     yes  "
      ]
     },
     "execution_count": 11,
     "metadata": {},
     "output_type": "execute_result"
    }
   ],
   "source": [
    "x = dados.drop(columns = 'default', axis=1)\n",
    "x.head()"
   ]
  },
  {
   "cell_type": "code",
   "execution_count": 12,
   "id": "7c586253",
   "metadata": {},
   "outputs": [],
   "source": [
    "from sklearn.model_selection import train_test_split\n",
    "SEED = 77\n",
    "x_treino, x_teste, y_treino, y_teste = train_test_split(x, y, test_size=0.3, random_state = SEED)"
   ]
  },
  {
   "cell_type": "code",
   "execution_count": 14,
   "id": "4ed06640",
   "metadata": {},
   "outputs": [
    {
     "name": "stdout",
     "output_type": "stream",
     "text": [
      "A base de treino tem 700 elementos e a base de teste 300 elementos\n"
     ]
    }
   ],
   "source": [
    "base_treino = x_treino.shape[0]\n",
    "base_teste = x_teste.shape[0]\n",
    "print('A base de treino tem {} elementos e a base de teste {} elementos'.format(base_treino, base_teste))"
   ]
  },
  {
   "cell_type": "code",
   "execution_count": 61,
   "id": "d0b7c4b5",
   "metadata": {},
   "outputs": [],
   "source": [
    "### ERRO - O MODELO NÃO FUNCIONA COM VARIÁVEIS CATEGÓRICAS !\n",
    "# from sklearn.linear_model import LogisticRegression\n",
    "\n",
    "# modelo = LogisticRegression(max_iter=1000)\n",
    "# modelo.fit(x_treino, y_treino)"
   ]
  },
  {
   "cell_type": "code",
   "execution_count": 16,
   "id": "f2051a6f",
   "metadata": {},
   "outputs": [
    {
     "data": {
      "text/plain": [
       "array(['< 0 DM', '0 <= ... < 200 DM', 'no checking account',\n",
       "       '>= 200 DM / salary assignments for at least 1 year'], dtype=object)"
      ]
     },
     "execution_count": 16,
     "metadata": {},
     "output_type": "execute_result"
    }
   ],
   "source": [
    "dados['conta_corrente'].unique()"
   ]
  },
  {
   "cell_type": "code",
   "execution_count": 17,
   "id": "952e2c0c",
   "metadata": {},
   "outputs": [
    {
     "data": {
      "text/html": [
       "<div>\n",
       "<style scoped>\n",
       "    .dataframe tbody tr th:only-of-type {\n",
       "        vertical-align: middle;\n",
       "    }\n",
       "\n",
       "    .dataframe tbody tr th {\n",
       "        vertical-align: top;\n",
       "    }\n",
       "\n",
       "    .dataframe thead th {\n",
       "        text-align: right;\n",
       "    }\n",
       "</style>\n",
       "<table border=\"1\" class=\"dataframe\">\n",
       "  <thead>\n",
       "    <tr style=\"text-align: right;\">\n",
       "      <th></th>\n",
       "      <th>default</th>\n",
       "      <th>conta_corrente</th>\n",
       "      <th>prazo_emprestimo_meses</th>\n",
       "      <th>historico_credito</th>\n",
       "      <th>proposito_emprestimo</th>\n",
       "      <th>valor_emprestimo</th>\n",
       "      <th>reserva_cc</th>\n",
       "      <th>tempo_emprego_atual</th>\n",
       "      <th>taxa_comp_salario</th>\n",
       "      <th>sexo_est_civil</th>\n",
       "      <th>...</th>\n",
       "      <th>anos_residencia_atual</th>\n",
       "      <th>propriedade</th>\n",
       "      <th>idade</th>\n",
       "      <th>outros_planos_financiamento</th>\n",
       "      <th>tipo_residencia</th>\n",
       "      <th>n_creditos_banco</th>\n",
       "      <th>status_emprego</th>\n",
       "      <th>n_dependentes</th>\n",
       "      <th>telefone</th>\n",
       "      <th>trabalhador_estrangeiro</th>\n",
       "    </tr>\n",
       "  </thead>\n",
       "  <tbody>\n",
       "    <tr>\n",
       "      <th>0</th>\n",
       "      <td>0</td>\n",
       "      <td>1</td>\n",
       "      <td>6</td>\n",
       "      <td>critical account/ other credits existing (not ...</td>\n",
       "      <td>domestic appliances</td>\n",
       "      <td>1169</td>\n",
       "      <td>unknown/ no savings account</td>\n",
       "      <td>.. &gt;= 7 years</td>\n",
       "      <td>4</td>\n",
       "      <td>male : single</td>\n",
       "      <td>...</td>\n",
       "      <td>4</td>\n",
       "      <td>real estate</td>\n",
       "      <td>67</td>\n",
       "      <td>none</td>\n",
       "      <td>own</td>\n",
       "      <td>2</td>\n",
       "      <td>skilled employee / official</td>\n",
       "      <td>1</td>\n",
       "      <td>yes, registered under the customers name</td>\n",
       "      <td>yes</td>\n",
       "    </tr>\n",
       "    <tr>\n",
       "      <th>1</th>\n",
       "      <td>1</td>\n",
       "      <td>2</td>\n",
       "      <td>48</td>\n",
       "      <td>existing credits paid back duly till now</td>\n",
       "      <td>domestic appliances</td>\n",
       "      <td>5951</td>\n",
       "      <td>... &lt; 100 DM</td>\n",
       "      <td>1 &lt;= ... &lt; 4 years</td>\n",
       "      <td>2</td>\n",
       "      <td>female : divorced/separated/married</td>\n",
       "      <td>...</td>\n",
       "      <td>2</td>\n",
       "      <td>real estate</td>\n",
       "      <td>22</td>\n",
       "      <td>none</td>\n",
       "      <td>own</td>\n",
       "      <td>1</td>\n",
       "      <td>skilled employee / official</td>\n",
       "      <td>1</td>\n",
       "      <td>none</td>\n",
       "      <td>yes</td>\n",
       "    </tr>\n",
       "    <tr>\n",
       "      <th>2</th>\n",
       "      <td>0</td>\n",
       "      <td>3</td>\n",
       "      <td>12</td>\n",
       "      <td>critical account/ other credits existing (not ...</td>\n",
       "      <td>(vacation - does not exist?)</td>\n",
       "      <td>2096</td>\n",
       "      <td>... &lt; 100 DM</td>\n",
       "      <td>4 &lt;= ... &lt; 7 years</td>\n",
       "      <td>2</td>\n",
       "      <td>male : single</td>\n",
       "      <td>...</td>\n",
       "      <td>3</td>\n",
       "      <td>real estate</td>\n",
       "      <td>49</td>\n",
       "      <td>none</td>\n",
       "      <td>own</td>\n",
       "      <td>1</td>\n",
       "      <td>unskilled - resident</td>\n",
       "      <td>2</td>\n",
       "      <td>none</td>\n",
       "      <td>yes</td>\n",
       "    </tr>\n",
       "    <tr>\n",
       "      <th>3</th>\n",
       "      <td>0</td>\n",
       "      <td>1</td>\n",
       "      <td>42</td>\n",
       "      <td>existing credits paid back duly till now</td>\n",
       "      <td>radio/television</td>\n",
       "      <td>7882</td>\n",
       "      <td>... &lt; 100 DM</td>\n",
       "      <td>4 &lt;= ... &lt; 7 years</td>\n",
       "      <td>2</td>\n",
       "      <td>male : single</td>\n",
       "      <td>...</td>\n",
       "      <td>4</td>\n",
       "      <td>if not A121 : building society savings agreeme...</td>\n",
       "      <td>45</td>\n",
       "      <td>none</td>\n",
       "      <td>for free</td>\n",
       "      <td>1</td>\n",
       "      <td>skilled employee / official</td>\n",
       "      <td>2</td>\n",
       "      <td>none</td>\n",
       "      <td>yes</td>\n",
       "    </tr>\n",
       "    <tr>\n",
       "      <th>4</th>\n",
       "      <td>1</td>\n",
       "      <td>1</td>\n",
       "      <td>24</td>\n",
       "      <td>delay in paying off in the past</td>\n",
       "      <td>car (new)</td>\n",
       "      <td>4870</td>\n",
       "      <td>... &lt; 100 DM</td>\n",
       "      <td>1 &lt;= ... &lt; 4 years</td>\n",
       "      <td>3</td>\n",
       "      <td>male : single</td>\n",
       "      <td>...</td>\n",
       "      <td>4</td>\n",
       "      <td>unknown / no property</td>\n",
       "      <td>53</td>\n",
       "      <td>none</td>\n",
       "      <td>for free</td>\n",
       "      <td>2</td>\n",
       "      <td>skilled employee / official</td>\n",
       "      <td>2</td>\n",
       "      <td>none</td>\n",
       "      <td>yes</td>\n",
       "    </tr>\n",
       "  </tbody>\n",
       "</table>\n",
       "<p>5 rows × 21 columns</p>\n",
       "</div>"
      ],
      "text/plain": [
       "   default  conta_corrente  prazo_emprestimo_meses  \\\n",
       "0        0               1                       6   \n",
       "1        1               2                      48   \n",
       "2        0               3                      12   \n",
       "3        0               1                      42   \n",
       "4        1               1                      24   \n",
       "\n",
       "                                   historico_credito  \\\n",
       "0  critical account/ other credits existing (not ...   \n",
       "1           existing credits paid back duly till now   \n",
       "2  critical account/ other credits existing (not ...   \n",
       "3           existing credits paid back duly till now   \n",
       "4                    delay in paying off in the past   \n",
       "\n",
       "           proposito_emprestimo  valor_emprestimo  \\\n",
       "0           domestic appliances              1169   \n",
       "1           domestic appliances              5951   \n",
       "2  (vacation - does not exist?)              2096   \n",
       "3              radio/television              7882   \n",
       "4                     car (new)              4870   \n",
       "\n",
       "                    reserva_cc tempo_emprego_atual  taxa_comp_salario  \\\n",
       "0  unknown/ no savings account       .. >= 7 years                  4   \n",
       "1                 ... < 100 DM  1 <= ... < 4 years                  2   \n",
       "2                 ... < 100 DM  4 <= ... < 7 years                  2   \n",
       "3                 ... < 100 DM  4 <= ... < 7 years                  2   \n",
       "4                 ... < 100 DM  1 <= ... < 4 years                  3   \n",
       "\n",
       "                        sexo_est_civil  ... anos_residencia_atual  \\\n",
       "0                        male : single  ...                     4   \n",
       "1  female : divorced/separated/married  ...                     2   \n",
       "2                        male : single  ...                     3   \n",
       "3                        male : single  ...                     4   \n",
       "4                        male : single  ...                     4   \n",
       "\n",
       "                                         propriedade idade  \\\n",
       "0                                        real estate    67   \n",
       "1                                        real estate    22   \n",
       "2                                        real estate    49   \n",
       "3  if not A121 : building society savings agreeme...    45   \n",
       "4                              unknown / no property    53   \n",
       "\n",
       "   outros_planos_financiamento tipo_residencia n_creditos_banco  \\\n",
       "0                         none             own                2   \n",
       "1                         none             own                1   \n",
       "2                         none             own                1   \n",
       "3                         none        for free                1   \n",
       "4                         none        for free                2   \n",
       "\n",
       "                status_emprego n_dependentes  \\\n",
       "0  skilled employee / official             1   \n",
       "1  skilled employee / official             1   \n",
       "2         unskilled - resident             2   \n",
       "3  skilled employee / official             2   \n",
       "4  skilled employee / official             2   \n",
       "\n",
       "                                    telefone trabalhador_estrangeiro  \n",
       "0  yes, registered under the customers name                      yes  \n",
       "1                                       none                     yes  \n",
       "2                                       none                     yes  \n",
       "3                                       none                     yes  \n",
       "4                                       none                     yes  \n",
       "\n",
       "[5 rows x 21 columns]"
      ]
     },
     "execution_count": 17,
     "metadata": {},
     "output_type": "execute_result"
    }
   ],
   "source": [
    "a = {\n",
    "    '< 0 DM': 1,\n",
    "    '0 <= ... < 200 DM': 2,\n",
    "    'no checking account': 3,\n",
    "    '>= 200 DM / salary assignments for at least 1 year': 4\n",
    "}\n",
    "\n",
    "dados.conta_corrente = dados.conta_corrente.map(a)\n",
    "dados.head()"
   ]
  },
  {
   "cell_type": "code",
   "execution_count": 19,
   "id": "f7698f1e",
   "metadata": {},
   "outputs": [
    {
     "data": {
      "text/plain": [
       "array(['critical account/ other credits existing (not at this bank)',\n",
       "       'existing credits paid back duly till now',\n",
       "       'delay in paying off in the past',\n",
       "       'no credits taken/ all credits paid back duly',\n",
       "       'all credits at this bank paid back duly'], dtype=object)"
      ]
     },
     "execution_count": 19,
     "metadata": {},
     "output_type": "execute_result"
    }
   ],
   "source": [
    "dados.historico_credito.unique()"
   ]
  },
  {
   "cell_type": "code",
   "execution_count": 20,
   "id": "13f0b5c0",
   "metadata": {},
   "outputs": [
    {
     "data": {
      "text/html": [
       "<div>\n",
       "<style scoped>\n",
       "    .dataframe tbody tr th:only-of-type {\n",
       "        vertical-align: middle;\n",
       "    }\n",
       "\n",
       "    .dataframe tbody tr th {\n",
       "        vertical-align: top;\n",
       "    }\n",
       "\n",
       "    .dataframe thead th {\n",
       "        text-align: right;\n",
       "    }\n",
       "</style>\n",
       "<table border=\"1\" class=\"dataframe\">\n",
       "  <thead>\n",
       "    <tr style=\"text-align: right;\">\n",
       "      <th></th>\n",
       "      <th>default</th>\n",
       "      <th>conta_corrente</th>\n",
       "      <th>prazo_emprestimo_meses</th>\n",
       "      <th>historico_credito</th>\n",
       "      <th>proposito_emprestimo</th>\n",
       "      <th>valor_emprestimo</th>\n",
       "      <th>reserva_cc</th>\n",
       "      <th>tempo_emprego_atual</th>\n",
       "      <th>taxa_comp_salario</th>\n",
       "      <th>sexo_est_civil</th>\n",
       "      <th>...</th>\n",
       "      <th>anos_residencia_atual</th>\n",
       "      <th>propriedade</th>\n",
       "      <th>idade</th>\n",
       "      <th>outros_planos_financiamento</th>\n",
       "      <th>tipo_residencia</th>\n",
       "      <th>n_creditos_banco</th>\n",
       "      <th>status_emprego</th>\n",
       "      <th>n_dependentes</th>\n",
       "      <th>telefone</th>\n",
       "      <th>trabalhador_estrangeiro</th>\n",
       "    </tr>\n",
       "  </thead>\n",
       "  <tbody>\n",
       "    <tr>\n",
       "      <th>0</th>\n",
       "      <td>0</td>\n",
       "      <td>1</td>\n",
       "      <td>6</td>\n",
       "      <td>1</td>\n",
       "      <td>domestic appliances</td>\n",
       "      <td>1169</td>\n",
       "      <td>unknown/ no savings account</td>\n",
       "      <td>.. &gt;= 7 years</td>\n",
       "      <td>4</td>\n",
       "      <td>male : single</td>\n",
       "      <td>...</td>\n",
       "      <td>4</td>\n",
       "      <td>real estate</td>\n",
       "      <td>67</td>\n",
       "      <td>none</td>\n",
       "      <td>own</td>\n",
       "      <td>2</td>\n",
       "      <td>skilled employee / official</td>\n",
       "      <td>1</td>\n",
       "      <td>yes, registered under the customers name</td>\n",
       "      <td>yes</td>\n",
       "    </tr>\n",
       "    <tr>\n",
       "      <th>1</th>\n",
       "      <td>1</td>\n",
       "      <td>2</td>\n",
       "      <td>48</td>\n",
       "      <td>2</td>\n",
       "      <td>domestic appliances</td>\n",
       "      <td>5951</td>\n",
       "      <td>... &lt; 100 DM</td>\n",
       "      <td>1 &lt;= ... &lt; 4 years</td>\n",
       "      <td>2</td>\n",
       "      <td>female : divorced/separated/married</td>\n",
       "      <td>...</td>\n",
       "      <td>2</td>\n",
       "      <td>real estate</td>\n",
       "      <td>22</td>\n",
       "      <td>none</td>\n",
       "      <td>own</td>\n",
       "      <td>1</td>\n",
       "      <td>skilled employee / official</td>\n",
       "      <td>1</td>\n",
       "      <td>none</td>\n",
       "      <td>yes</td>\n",
       "    </tr>\n",
       "    <tr>\n",
       "      <th>2</th>\n",
       "      <td>0</td>\n",
       "      <td>3</td>\n",
       "      <td>12</td>\n",
       "      <td>1</td>\n",
       "      <td>(vacation - does not exist?)</td>\n",
       "      <td>2096</td>\n",
       "      <td>... &lt; 100 DM</td>\n",
       "      <td>4 &lt;= ... &lt; 7 years</td>\n",
       "      <td>2</td>\n",
       "      <td>male : single</td>\n",
       "      <td>...</td>\n",
       "      <td>3</td>\n",
       "      <td>real estate</td>\n",
       "      <td>49</td>\n",
       "      <td>none</td>\n",
       "      <td>own</td>\n",
       "      <td>1</td>\n",
       "      <td>unskilled - resident</td>\n",
       "      <td>2</td>\n",
       "      <td>none</td>\n",
       "      <td>yes</td>\n",
       "    </tr>\n",
       "    <tr>\n",
       "      <th>3</th>\n",
       "      <td>0</td>\n",
       "      <td>1</td>\n",
       "      <td>42</td>\n",
       "      <td>2</td>\n",
       "      <td>radio/television</td>\n",
       "      <td>7882</td>\n",
       "      <td>... &lt; 100 DM</td>\n",
       "      <td>4 &lt;= ... &lt; 7 years</td>\n",
       "      <td>2</td>\n",
       "      <td>male : single</td>\n",
       "      <td>...</td>\n",
       "      <td>4</td>\n",
       "      <td>if not A121 : building society savings agreeme...</td>\n",
       "      <td>45</td>\n",
       "      <td>none</td>\n",
       "      <td>for free</td>\n",
       "      <td>1</td>\n",
       "      <td>skilled employee / official</td>\n",
       "      <td>2</td>\n",
       "      <td>none</td>\n",
       "      <td>yes</td>\n",
       "    </tr>\n",
       "    <tr>\n",
       "      <th>4</th>\n",
       "      <td>1</td>\n",
       "      <td>1</td>\n",
       "      <td>24</td>\n",
       "      <td>3</td>\n",
       "      <td>car (new)</td>\n",
       "      <td>4870</td>\n",
       "      <td>... &lt; 100 DM</td>\n",
       "      <td>1 &lt;= ... &lt; 4 years</td>\n",
       "      <td>3</td>\n",
       "      <td>male : single</td>\n",
       "      <td>...</td>\n",
       "      <td>4</td>\n",
       "      <td>unknown / no property</td>\n",
       "      <td>53</td>\n",
       "      <td>none</td>\n",
       "      <td>for free</td>\n",
       "      <td>2</td>\n",
       "      <td>skilled employee / official</td>\n",
       "      <td>2</td>\n",
       "      <td>none</td>\n",
       "      <td>yes</td>\n",
       "    </tr>\n",
       "  </tbody>\n",
       "</table>\n",
       "<p>5 rows × 21 columns</p>\n",
       "</div>"
      ],
      "text/plain": [
       "   default  conta_corrente  prazo_emprestimo_meses  historico_credito  \\\n",
       "0        0               1                       6                  1   \n",
       "1        1               2                      48                  2   \n",
       "2        0               3                      12                  1   \n",
       "3        0               1                      42                  2   \n",
       "4        1               1                      24                  3   \n",
       "\n",
       "           proposito_emprestimo  valor_emprestimo  \\\n",
       "0           domestic appliances              1169   \n",
       "1           domestic appliances              5951   \n",
       "2  (vacation - does not exist?)              2096   \n",
       "3              radio/television              7882   \n",
       "4                     car (new)              4870   \n",
       "\n",
       "                    reserva_cc tempo_emprego_atual  taxa_comp_salario  \\\n",
       "0  unknown/ no savings account       .. >= 7 years                  4   \n",
       "1                 ... < 100 DM  1 <= ... < 4 years                  2   \n",
       "2                 ... < 100 DM  4 <= ... < 7 years                  2   \n",
       "3                 ... < 100 DM  4 <= ... < 7 years                  2   \n",
       "4                 ... < 100 DM  1 <= ... < 4 years                  3   \n",
       "\n",
       "                        sexo_est_civil  ... anos_residencia_atual  \\\n",
       "0                        male : single  ...                     4   \n",
       "1  female : divorced/separated/married  ...                     2   \n",
       "2                        male : single  ...                     3   \n",
       "3                        male : single  ...                     4   \n",
       "4                        male : single  ...                     4   \n",
       "\n",
       "                                         propriedade idade  \\\n",
       "0                                        real estate    67   \n",
       "1                                        real estate    22   \n",
       "2                                        real estate    49   \n",
       "3  if not A121 : building society savings agreeme...    45   \n",
       "4                              unknown / no property    53   \n",
       "\n",
       "   outros_planos_financiamento tipo_residencia n_creditos_banco  \\\n",
       "0                         none             own                2   \n",
       "1                         none             own                1   \n",
       "2                         none             own                1   \n",
       "3                         none        for free                1   \n",
       "4                         none        for free                2   \n",
       "\n",
       "                status_emprego n_dependentes  \\\n",
       "0  skilled employee / official             1   \n",
       "1  skilled employee / official             1   \n",
       "2         unskilled - resident             2   \n",
       "3  skilled employee / official             2   \n",
       "4  skilled employee / official             2   \n",
       "\n",
       "                                    telefone trabalhador_estrangeiro  \n",
       "0  yes, registered under the customers name                      yes  \n",
       "1                                       none                     yes  \n",
       "2                                       none                     yes  \n",
       "3                                       none                     yes  \n",
       "4                                       none                     yes  \n",
       "\n",
       "[5 rows x 21 columns]"
      ]
     },
     "execution_count": 20,
     "metadata": {},
     "output_type": "execute_result"
    }
   ],
   "source": [
    "a = {\n",
    "    'critical account/ other credits existing (not at this bank)': 1,\n",
    "    'existing credits paid back duly till now': 2,\n",
    "    'delay in paying off in the past': 3,\n",
    "    'no credits taken/ all credits paid back duly': 4,\n",
    "    'all credits at this bank paid back duly': 5\n",
    "}\n",
    "dados.historico_credito = dados.historico_credito.map(a)\n",
    "dados.head()"
   ]
  },
  {
   "cell_type": "code",
   "execution_count": 23,
   "id": "6bad9d53",
   "metadata": {},
   "outputs": [],
   "source": [
    "a = {\n",
    "    'domestic appliances': 1,\n",
    "    '(vacation - does not exist?)': 2,\n",
    "    'radio/television': 3,\n",
    "    'car (new)': 4,\n",
    "    'car (used)': 5,\n",
    "    'business': 6,\n",
    "    'repairs': 7,\n",
    "    'education': 8,\n",
    "    'furniture/equipment': 9,\n",
    "    'retraining':10\n",
    "}\n",
    "dados.proposito_emprestimo = dados.proposito_emprestimo.map(a)"
   ]
  },
  {
   "cell_type": "code",
   "execution_count": 27,
   "id": "58c15c71",
   "metadata": {},
   "outputs": [],
   "source": [
    "a = {\n",
    "    'unknown/ no savings account':1,\n",
    "    '... < 100 DM': 2,\n",
    "    '500 <= ... < 1000 DM ': 3,\n",
    "    '.. >= 1000 DM ': 4,\n",
    "    '100 <= ... < 500 DM':5\n",
    "}\n",
    "dados.reserva_cc = dados.reserva_cc.map(a)"
   ]
  },
  {
   "cell_type": "code",
   "execution_count": 32,
   "id": "c573c01d",
   "metadata": {},
   "outputs": [],
   "source": [
    "a = {\n",
    "    '.. >= 7 years': 1,\n",
    "    '1 <= ... < 4 years': 2,\n",
    "    '4 <= ... < 7 years': 3,\n",
    "    'unemployed': 4,\n",
    "    '... < 1 year ': 5\n",
    "}\n",
    "dados.tempo_emprego_atual = dados.tempo_emprego_atual.map(a)"
   ]
  },
  {
   "cell_type": "code",
   "execution_count": 35,
   "id": "cd5f6d94",
   "metadata": {},
   "outputs": [],
   "source": [
    "a = {\n",
    "    'male : single': 1,\n",
    "    'female : divorced/separated/married': 2,\n",
    "    'male : divorced/separated': 3,\n",
    "    'male : married/widowed': 4\n",
    "}\n",
    "dados.sexo_est_civil = dados.sexo_est_civil.map(a)"
   ]
  },
  {
   "cell_type": "code",
   "execution_count": 38,
   "id": "8136cc21",
   "metadata": {},
   "outputs": [],
   "source": [
    "a = {\n",
    "    'none': 1,\n",
    "    'guarantor': 2,\n",
    "    'co-applicant': 3\n",
    "}\n",
    "dados.outros_fiadores = dados.outros_fiadores.map(a)"
   ]
  },
  {
   "cell_type": "code",
   "execution_count": 41,
   "id": "7abeb4c3",
   "metadata": {},
   "outputs": [],
   "source": [
    "a = {\n",
    "    'real estate': 1,\n",
    "    'if not A121 : building society savings agreement/ life insurance': 2,\n",
    "    'unknown / no property': 3,\n",
    "    'if not A121/A122 : car or other, not in attribute 6': 4\n",
    "}\n",
    "dados.propriedade = dados.propriedade.map(a)"
   ]
  },
  {
   "cell_type": "code",
   "execution_count": 43,
   "id": "a4118b89",
   "metadata": {},
   "outputs": [],
   "source": [
    "a = {\n",
    "    'none': 1,\n",
    "    'bank': 2,\n",
    "    'stores': 3\n",
    "}\n",
    "dados.outros_planos_financiamento = dados.outros_planos_financiamento.map(a)"
   ]
  },
  {
   "cell_type": "code",
   "execution_count": 46,
   "id": "678e915e",
   "metadata": {},
   "outputs": [],
   "source": [
    "a = {\n",
    "    'own': 1,\n",
    "    'for free': 2,\n",
    "    'rent': 3\n",
    "}\n",
    "dados.tipo_residencia = dados.tipo_residencia.map(a)"
   ]
  },
  {
   "cell_type": "code",
   "execution_count": 49,
   "id": "d556d3d8",
   "metadata": {},
   "outputs": [],
   "source": [
    "a = {\n",
    "    'skilled employee / official': 1,\n",
    "    'unskilled - resident': 2,\n",
    "    'management/ self-employed/ highly qualified employee/ officer': 3,\n",
    "    'unemployed/ unskilled - non-resident': 4\n",
    "}\n",
    "dados.status_emprego = dados.status_emprego.map(a)"
   ]
  },
  {
   "cell_type": "code",
   "execution_count": 52,
   "id": "db37b6d7",
   "metadata": {},
   "outputs": [],
   "source": [
    "a = {\n",
    "    'yes, registered under the customers name ': 1,\n",
    "    'none': 2\n",
    "}\n",
    "dados.telefone = dados.telefone.map(a)"
   ]
  },
  {
   "cell_type": "code",
   "execution_count": 55,
   "id": "ee5f0b16",
   "metadata": {},
   "outputs": [],
   "source": [
    "a = {\n",
    "    'yes': 1,\n",
    "    'no': 0\n",
    "}\n",
    "dados.trabalhador_estrangeiro = dados.trabalhador_estrangeiro.map(a)"
   ]
  },
  {
   "cell_type": "code",
   "execution_count": 58,
   "id": "c5772072",
   "metadata": {},
   "outputs": [],
   "source": [
    "y = dados['default']\n",
    "x = dados.drop(columns = 'default', axis=1)"
   ]
  },
  {
   "cell_type": "code",
   "execution_count": 59,
   "id": "46446b67",
   "metadata": {},
   "outputs": [],
   "source": [
    "from sklearn.model_selection import train_test_split\n",
    "SEED = 77\n",
    "x_treino, x_teste, y_treino, y_teste = train_test_split(x, y, test_size=0.3, random_state = SEED)"
   ]
  },
  {
   "cell_type": "code",
   "execution_count": 60,
   "id": "9e5dd468",
   "metadata": {},
   "outputs": [
    {
     "name": "stdout",
     "output_type": "stream",
     "text": [
      "A base de treino tem 700 elementos e a base de teste 300 elementos\n"
     ]
    }
   ],
   "source": [
    "base_treino = x_treino.shape[0]\n",
    "base_teste = x_teste.shape[0]\n",
    "print('A base de treino tem {} elementos e a base de teste {} elementos'.format(base_treino, base_teste))"
   ]
  },
  {
   "cell_type": "code",
   "execution_count": 62,
   "id": "a92079d4",
   "metadata": {},
   "outputs": [
    {
     "data": {
      "text/plain": [
       "LogisticRegression(max_iter=1000)"
      ]
     },
     "execution_count": 62,
     "metadata": {},
     "output_type": "execute_result"
    }
   ],
   "source": [
    "from sklearn.linear_model import LogisticRegression\n",
    "\n",
    "modelo = LogisticRegression(max_iter=1000)\n",
    "modelo.fit(x_treino, y_treino)"
   ]
  },
  {
   "cell_type": "code",
   "execution_count": 64,
   "id": "9adc7ef7",
   "metadata": {},
   "outputs": [
    {
     "name": "stdout",
     "output_type": "stream",
     "text": [
      "0.7342857142857143\n"
     ]
    }
   ],
   "source": [
    "print(modelo.score(x_treino, y_treino))"
   ]
  },
  {
   "cell_type": "code",
   "execution_count": 66,
   "id": "9e44ff20",
   "metadata": {},
   "outputs": [
    {
     "data": {
      "text/plain": [
       "array([0, 0, 0, 1, 0, 0, 1, 0, 0, 0, 0, 0, 0, 0, 1, 0, 0, 0, 0, 0, 0, 0,\n",
       "       0, 0, 0, 0, 0, 0, 0, 0, 0, 0, 0, 0, 0, 0, 0, 1, 0, 0, 0, 0, 0, 1,\n",
       "       1, 0, 0, 0, 0, 0, 0, 0, 1, 0, 0, 1, 0, 0, 1, 1, 0, 0, 0, 0, 0, 0,\n",
       "       1, 0, 1, 0, 0, 0, 1, 0, 0, 1, 0, 0, 1, 0, 1, 1, 1, 0, 0, 0, 0, 0,\n",
       "       0, 0, 0, 1, 0, 0, 0, 0, 1, 0, 0, 1, 0, 0, 1, 0, 0, 0, 0, 0, 0, 0,\n",
       "       0, 1, 0, 0, 0, 0, 0, 0, 0, 0, 0, 1, 0, 1, 0, 0, 0, 1, 0, 0, 0, 1,\n",
       "       0, 1, 1, 0, 0, 0, 0, 0, 0, 0, 0, 0, 1, 1, 1, 0, 0, 0, 0, 1, 0, 0,\n",
       "       0, 1, 0, 0, 0, 0, 0, 0, 0, 0, 1, 0, 0, 1, 0, 0, 0, 0, 0, 0, 0, 0,\n",
       "       0, 0, 1, 1, 1, 0, 1, 0, 0, 0, 0, 0, 0, 0, 0, 0, 0, 1, 1, 0, 0, 1,\n",
       "       1, 0, 0, 0, 0, 0, 0, 1, 0, 0, 0, 0, 0, 0, 0, 0, 0, 0, 0, 0, 0, 0,\n",
       "       0, 0, 0, 0, 0, 0, 0, 1, 0, 1, 0, 0, 0, 1, 1, 0, 0, 0, 0, 0, 0, 0,\n",
       "       0, 0, 0, 1, 0, 1, 0, 1, 0, 0, 0, 1, 0, 0, 0, 1, 0, 0, 0, 0, 0, 0,\n",
       "       0, 0, 0, 1, 0, 0, 1, 0, 0, 0, 0, 1, 0, 0, 0, 0, 0, 0, 0, 0, 0, 0,\n",
       "       0, 0, 0, 0, 1, 0, 0, 0, 1, 0, 0, 0, 1, 0], dtype=int64)"
      ]
     },
     "execution_count": 66,
     "metadata": {},
     "output_type": "execute_result"
    }
   ],
   "source": [
    "previsoes = modelo.predict(x_teste)\n",
    "previsoes"
   ]
  },
  {
   "cell_type": "code",
   "execution_count": 72,
   "id": "88ce7335",
   "metadata": {},
   "outputs": [
    {
     "name": "stdout",
     "output_type": "stream",
     "text": [
      "A acuracia é de 76.7%\n"
     ]
    }
   ],
   "source": [
    "from sklearn.metrics import accuracy_score\n",
    "\n",
    "acuracia = accuracy_score(y_teste, previsoes)\n",
    "acuracia = round(acuracia, 3) * 100\n",
    "print('A acuracia é de {}%'.format(acuracia))"
   ]
  },
  {
   "cell_type": "code",
   "execution_count": 73,
   "id": "8f1c84de",
   "metadata": {},
   "outputs": [
    {
     "name": "stderr",
     "output_type": "stream",
     "text": [
      "C:\\Users\\mvsam\\Anaconda3\\lib\\site-packages\\sklearn\\utils\\deprecation.py:87: FutureWarning: Function plot_confusion_matrix is deprecated; Function `plot_confusion_matrix` is deprecated in 1.0 and will be removed in 1.2. Use one of the class methods: ConfusionMatrixDisplay.from_predictions or ConfusionMatrixDisplay.from_estimator.\n",
      "  warnings.warn(msg, category=FutureWarning)\n"
     ]
    },
    {
     "data": {
      "text/plain": [
       "<sklearn.metrics._plot.confusion_matrix.ConfusionMatrixDisplay at 0x1a2f6d1a8b0>"
      ]
     },
     "execution_count": 73,
     "metadata": {},
     "output_type": "execute_result"
    },
    {
     "data": {
      "image/png": "[encoded data removed]",
      "text/plain": [
       "<Figure size 432x288 with 2 Axes>"
      ]
     },
     "metadata": {
      "needs_background": "light"
     },
     "output_type": "display_data"
    }
   ],
   "source": [
    "import matplotlib.pyplot as plt\n",
    "from sklearn.metrics import plot_confusion_matrix\n",
    "\n",
    "matriz_confusao = plot_confusion_matrix(modelo, x_teste, y_teste)\n",
    "matriz_confusao"
   ]
  },
  {
   "cell_type": "code",
   "execution_count": 74,
   "id": "b20ecd01",
   "metadata": {},
   "outputs": [
    {
     "name": "stdout",
     "output_type": "stream",
     "text": [
      "              precision    recall  f1-score   support\n",
      "\n",
      "           0       0.80      0.90      0.85       214\n",
      "           1       0.63      0.44      0.52        86\n",
      "\n",
      "    accuracy                           0.77       300\n",
      "   macro avg       0.72      0.67      0.68       300\n",
      "weighted avg       0.75      0.77      0.75       300\n",
      "\n"
     ]
    }
   ],
   "source": [
    "from sklearn.metrics import classification_report\n",
    "\n",
    "print(classification_report(y_teste, previsoes))"
   ]
  },
  {
   "cell_type": "code",
   "execution_count": 77,
   "id": "80a21e4d",
   "metadata": {},
   "outputs": [
    {
     "name": "stdout",
     "output_type": "stream",
     "text": [
      "roc_auc 0.7508150402086502\n"
     ]
    },
    {
     "data": {
      "image/png": "[encoded data removed]",
      "text/plain": [
       "<Figure size 360x360 with 1 Axes>"
      ]
     },
     "metadata": {
      "needs_background": "light"
     },
     "output_type": "display_data"
    }
   ],
   "source": [
    "from sklearn.metrics import roc_curve, roc_auc_score\n",
    "\n",
    "prob_previsao = modelo.predict_proba(x_teste)[:,1]\n",
    "\n",
    "# tfp = Taxa Falsos Positivos\n",
    "# tvp = Taxa Verdadeiros Positivos\n",
    "\n",
    "tfp, tvp, limite = roc_curve(y_teste, prob_previsao)\n",
    "print('roc_auc', roc_auc_score(y_teste, prob_previsao))\n",
    "\n",
    "plt.subplots(1, figsize=(5,5))\n",
    "plt.title('Curva ROC')\n",
    "plt.plot(tfp, tvp)\n",
    "plt.xlabel('Especificidade')\n",
    "plt.ylabel('Sensibilidade')\n",
    "plt.show()"
   ]
  },
  {
   "cell_type": "code",
   "execution_count": 80,
   "id": "b80b679b",
   "metadata": {},
   "outputs": [
    {
     "data": {
      "text/html": [
       "<div>\n",
       "<style scoped>\n",
       "    .dataframe tbody tr th:only-of-type {\n",
       "        vertical-align: middle;\n",
       "    }\n",
       "\n",
       "    .dataframe tbody tr th {\n",
       "        vertical-align: top;\n",
       "    }\n",
       "\n",
       "    .dataframe thead th {\n",
       "        text-align: right;\n",
       "    }\n",
       "</style>\n",
       "<table border=\"1\" class=\"dataframe\">\n",
       "  <thead>\n",
       "    <tr style=\"text-align: right;\">\n",
       "      <th></th>\n",
       "      <th>sexo_est_civil</th>\n",
       "      <th>idade</th>\n",
       "      <th>prazo_emprestimo_meses</th>\n",
       "      <th>valor_emprestimo</th>\n",
       "      <th>default</th>\n",
       "    </tr>\n",
       "  </thead>\n",
       "  <tbody>\n",
       "    <tr>\n",
       "      <th>count</th>\n",
       "      <td>1000.000000</td>\n",
       "      <td>1000.000000</td>\n",
       "      <td>1000.000000</td>\n",
       "      <td>1000.000000</td>\n",
       "      <td>1000.000000</td>\n",
       "    </tr>\n",
       "    <tr>\n",
       "      <th>mean</th>\n",
       "      <td>1.686000</td>\n",
       "      <td>35.546000</td>\n",
       "      <td>20.903000</td>\n",
       "      <td>3271.258000</td>\n",
       "      <td>0.300000</td>\n",
       "    </tr>\n",
       "    <tr>\n",
       "      <th>std</th>\n",
       "      <td>0.931811</td>\n",
       "      <td>11.375469</td>\n",
       "      <td>12.058814</td>\n",
       "      <td>2822.736876</td>\n",
       "      <td>0.458487</td>\n",
       "    </tr>\n",
       "    <tr>\n",
       "      <th>min</th>\n",
       "      <td>1.000000</td>\n",
       "      <td>19.000000</td>\n",
       "      <td>4.000000</td>\n",
       "      <td>250.000000</td>\n",
       "      <td>0.000000</td>\n",
       "    </tr>\n",
       "    <tr>\n",
       "      <th>25%</th>\n",
       "      <td>1.000000</td>\n",
       "      <td>27.000000</td>\n",
       "      <td>12.000000</td>\n",
       "      <td>1365.500000</td>\n",
       "      <td>0.000000</td>\n",
       "    </tr>\n",
       "    <tr>\n",
       "      <th>50%</th>\n",
       "      <td>1.000000</td>\n",
       "      <td>33.000000</td>\n",
       "      <td>18.000000</td>\n",
       "      <td>2319.500000</td>\n",
       "      <td>0.000000</td>\n",
       "    </tr>\n",
       "    <tr>\n",
       "      <th>75%</th>\n",
       "      <td>2.000000</td>\n",
       "      <td>42.000000</td>\n",
       "      <td>24.000000</td>\n",
       "      <td>3972.250000</td>\n",
       "      <td>1.000000</td>\n",
       "    </tr>\n",
       "    <tr>\n",
       "      <th>max</th>\n",
       "      <td>4.000000</td>\n",
       "      <td>75.000000</td>\n",
       "      <td>72.000000</td>\n",
       "      <td>18424.000000</td>\n",
       "      <td>1.000000</td>\n",
       "    </tr>\n",
       "  </tbody>\n",
       "</table>\n",
       "</div>"
      ],
      "text/plain": [
       "       sexo_est_civil        idade  prazo_emprestimo_meses  valor_emprestimo  \\\n",
       "count     1000.000000  1000.000000             1000.000000       1000.000000   \n",
       "mean         1.686000    35.546000               20.903000       3271.258000   \n",
       "std          0.931811    11.375469               12.058814       2822.736876   \n",
       "min          1.000000    19.000000                4.000000        250.000000   \n",
       "25%          1.000000    27.000000               12.000000       1365.500000   \n",
       "50%          1.000000    33.000000               18.000000       2319.500000   \n",
       "75%          2.000000    42.000000               24.000000       3972.250000   \n",
       "max          4.000000    75.000000               72.000000      18424.000000   \n",
       "\n",
       "           default  \n",
       "count  1000.000000  \n",
       "mean      0.300000  \n",
       "std       0.458487  \n",
       "min       0.000000  \n",
       "25%       0.000000  \n",
       "50%       0.000000  \n",
       "75%       1.000000  \n",
       "max       1.000000  "
      ]
     },
     "execution_count": 80,
     "metadata": {},
     "output_type": "execute_result"
    }
   ],
   "source": [
    "variaveis_analise = ['sexo_est_civil', 'idade', 'prazo_emprestimo_meses', 'valor_emprestimo', 'default']\n",
    "dados[variaveis_analise].describe()"
   ]
  },
  {
   "cell_type": "code",
   "execution_count": 81,
   "id": "8916fd7c",
   "metadata": {},
   "outputs": [
    {
     "data": {
      "text/plain": [
       "1    548\n",
       "2    310\n",
       "4     92\n",
       "3     50\n",
       "Name: sexo_est_civil, dtype: int64"
      ]
     },
     "execution_count": 81,
     "metadata": {},
     "output_type": "execute_result"
    }
   ],
   "source": [
    "# homem = categorias 1, 3, 4\n",
    "# mulher = categoria 2\n",
    "\n",
    "dados['sexo_est_civil'].value_counts()\n",
    "\n",
    "# temos 310 mulheres e 690 homens"
   ]
  },
  {
   "cell_type": "code",
   "execution_count": 83,
   "id": "305678d5",
   "metadata": {},
   "outputs": [
    {
     "data": {
      "text/plain": [
       "0    700\n",
       "1    300\n",
       "Name: default, dtype: int64"
      ]
     },
     "execution_count": 83,
     "metadata": {},
     "output_type": "execute_result"
    }
   ],
   "source": [
    "dados['default'].value_counts()\n",
    "\n",
    "# A nossa base de dados é desbalanceada 70% de emprestimo concedido e 30% não concedido"
   ]
  },
  {
   "cell_type": "code",
   "execution_count": 85,
   "id": "fa9821f0",
   "metadata": {},
   "outputs": [
    {
     "data": {
      "image/png": "[encoded data removed]",
      "text/plain": [
       "<Figure size 2160x1440 with 3 Axes>"
      ]
     },
     "metadata": {
      "needs_background": "light"
     },
     "output_type": "display_data"
    }
   ],
   "source": [
    "import seaborn as sns\n",
    "\n",
    "histogramas = ['sexo_est_civil', 'prazo_emprestimo_meses', 'default']\n",
    "\n",
    "lista_histogramas = list(enumerate(histogramas))\n",
    "plt.figure(figsize=(30,20))\n",
    "for i in lista_histogramas:\n",
    "    plt.subplot(2, 2, i[0] + 1)\n",
    "    sns.countplot(x = i[1], data = dados)"
   ]
  },
  {
   "cell_type": "code",
   "execution_count": 88,
   "id": "7913982f",
   "metadata": {},
   "outputs": [
    {
     "data": {
      "image/png": "[encoded data removed]",
      "text/plain": [
       "<Figure size 1440x720 with 1 Axes>"
      ]
     },
     "metadata": {
      "needs_background": "light"
     },
     "output_type": "display_data"
    }
   ],
   "source": [
    "plt.figure(figsize=(20,10))\n",
    "sns.boxplot(x = 'sexo_est_civil', y = 'idade', data = dados)\n",
    "plt.title('Distribuição de idade por sexo e estado civil')\n",
    "plt.show()"
   ]
  },
  {
   "cell_type": "code",
   "execution_count": 89,
   "id": "51e5c40d",
   "metadata": {},
   "outputs": [
    {
     "data": {
      "image/png": "[encoded data removed]",
      "text/plain": [
       "<Figure size 1440x720 with 1 Axes>"
      ]
     },
     "metadata": {
      "needs_background": "light"
     },
     "output_type": "display_data"
    }
   ],
   "source": [
    "plt.figure(figsize=(20,10))\n",
    "plt.bar(dados.prazo_emprestimo_meses, dados.valor_emprestimo)\n",
    "plt.xlabel('prazo_emprestimo_meses')\n",
    "plt.ylabel('valor_emprestimo')\n",
    "plt.title('Valor x Prazo em meses')\n",
    "plt.show()"
   ]
  },
  {
   "cell_type": "code",
   "execution_count": null,
   "id": "e7790eb5",
   "metadata": {},
   "outputs": [],
   "source": []
  }
 ],
 "metadata": {
  "kernelspec": {
   "display_name": "Python 3 (ipykernel)",
   "language": "python",
   "name": "python3"
  },
  "language_info": {
   "codemirror_mode": {
    "name": "ipython",
    "version": 3
   },
   "file_extension": ".py",
   "mimetype": "text/x-python",
   "name": "python",
   "nbconvert_exporter": "python",
   "pygments_lexer": "ipython3",
   "version": "3.9.12"
  }
 },
 "nbformat": 4,
 "nbformat_minor": 5
}
