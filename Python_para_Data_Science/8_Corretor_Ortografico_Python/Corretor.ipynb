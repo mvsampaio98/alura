{
 "cells": [
  {
   "cell_type": "markdown",
   "id": "24818279",
   "metadata": {},
   "source": [
    "### Abrindo o arquivo de texto (Base de dados)"
   ]
  },
  {
   "cell_type": "code",
   "execution_count": null,
   "id": "42158057",
   "metadata": {
    "scrolled": true
   },
   "outputs": [],
   "source": [
    "with open(\"data/artigos.txt\", \"r\", encoding = \"utf-8\") as f:\n",
    "    artigos = f.read()\n",
    "print(artigos[:500])"
   ]
  },
  {
   "cell_type": "markdown",
   "id": "35bcc32d",
   "metadata": {},
   "source": [
    "### Descobrindo o numero de palavras da Base de dados"
   ]
  },
  {
   "cell_type": "code",
   "execution_count": null,
   "id": "d473e200",
   "metadata": {},
   "outputs": [],
   "source": [
    "len(artigos) # Numero de caracteres e não numero de palavras"
   ]
  },
  {
   "cell_type": "code",
   "execution_count": null,
   "id": "b3cdf4b5",
   "metadata": {},
   "outputs": [],
   "source": [
    "# Aqui separamos com o .split() os espaços entre as palavras\n",
    "texto_exemplo = 'Olá, tudo bem?'\n",
    "tokens = texto_exemplo.split()\n",
    "tokens"
   ]
  },
  {
   "cell_type": "code",
   "execution_count": null,
   "id": "6e41eab7",
   "metadata": {},
   "outputs": [],
   "source": [
    "# Aqui verificamos a quantidade de palavras, porém temos caracteres especiais\n",
    "# embutidos em nossas palavras\n",
    "len(tokens)"
   ]
  },
  {
   "cell_type": "code",
   "execution_count": null,
   "id": "aededc06",
   "metadata": {},
   "outputs": [],
   "source": [
    "# Importando o nltk\n",
    "import nltk"
   ]
  },
  {
   "cell_type": "code",
   "execution_count": null,
   "id": "4d496bcf",
   "metadata": {},
   "outputs": [],
   "source": [
    "# Com essa função do nltk, é possível separar as palavras dos \n",
    "# caracteres especiais\n",
    "palavras_separadas = nltk.tokenize.word_tokenize(texto_exemplo)\n",
    "print(palavras_separadas)"
   ]
  },
  {
   "cell_type": "code",
   "execution_count": null,
   "id": "3e1d60e2",
   "metadata": {},
   "outputs": [],
   "source": [
    "# Criando uma função que separa as palavras das pontuações,\n",
    "# a função isalpha() retorna True para os caracteres do alfabeto padrão\n",
    "def separa_palavras(lista_tokens):\n",
    "    lista_palavras = []\n",
    "    for token in lista_tokens:\n",
    "        if token.isalpha() == True:\n",
    "            lista_palavras.append(token)\n",
    "    return lista_palavras\n",
    "separa_palavras(palavras_separadas)"
   ]
  },
  {
   "cell_type": "code",
   "execution_count": null,
   "id": "f63ffb0a",
   "metadata": {},
   "outputs": [],
   "source": [
    "# Vamos aplicar agora nossa função na base de dados e ver a quantidade de\n",
    "# palavras que temos.\n",
    "lista_tokens = nltk.tokenize.word_tokenize(artigos)\n",
    "lista_palavras = separa_palavras(lista_tokens)\n",
    "print('O numero de palavras é: {}'.format(len(lista_palavras)))"
   ]
  },
  {
   "cell_type": "markdown",
   "id": "4fa9d613",
   "metadata": {},
   "source": [
    "### Colocar todos os caracteres de palavras em minusculo"
   ]
  },
  {
   "cell_type": "code",
   "execution_count": null,
   "id": "cc021db9",
   "metadata": {
    "scrolled": true
   },
   "outputs": [],
   "source": [
    "# Frase exemplo com a palavra Temos com T maiusculo\n",
    "print(lista_palavras[:5])"
   ]
  },
  {
   "cell_type": "code",
   "execution_count": null,
   "id": "c2b47f8b",
   "metadata": {},
   "outputs": [],
   "source": [
    "# Transforma todas as palavras maiusculas para minusculas\n",
    "def normalizacao(lista_palavras):\n",
    "    lista_normalizada = []\n",
    "    for palavra in lista_palavras:\n",
    "        lista_normalizada.append(palavra.lower())\n",
    "    return lista_normalizada"
   ]
  },
  {
   "cell_type": "code",
   "execution_count": null,
   "id": "662f89a6",
   "metadata": {},
   "outputs": [],
   "source": [
    "# Frase exemplo com a palavra temos com t minusculo\n",
    "lista_normalizada = normalizacao(lista_palavras)\n",
    "print(lista_normalizada[:5])"
   ]
  },
  {
   "cell_type": "markdown",
   "id": "468800b0",
   "metadata": {},
   "source": [
    "### Removendo palavras duplicadas"
   ]
  },
  {
   "cell_type": "code",
   "execution_count": null,
   "id": "fbc97124",
   "metadata": {},
   "outputs": [],
   "source": [
    "# Aqui temos a quantidade de palavras da nossa base de dados sem\n",
    "# distinção maiuscula/minuscula e sem duplicatas.\n",
    "len(set(lista_normalizada))"
   ]
  },
  {
   "cell_type": "markdown",
   "id": "cd5747ae",
   "metadata": {},
   "source": [
    "### Função inserir letras e gerador de palavras"
   ]
  },
  {
   "cell_type": "code",
   "execution_count": null,
   "id": "359b465a",
   "metadata": {},
   "outputs": [],
   "source": [
    "palavra_exemplo = 'lgica'\n",
    "# Pecorro a String e insiro uma letra entre o lado esquerdo ou direito de\n",
    "# cada palavra.\n",
    "def insere_letras(fatias):\n",
    "    novas_palavras = []\n",
    "    letras = 'abcdefghijklmnopqrstuvwxyzàáâãèéêìíîòóôõùúûç'\n",
    "    for E, D in fatias:\n",
    "        for letra in letras:\n",
    "            novas_palavras.append(E + letra + D)\n",
    "    return novas_palavras\n",
    "\n",
    "# É gerado todas as palavras com diferentes letras do alfabeto em diferentes\n",
    "# posições da string\n",
    "\n",
    "def gerador_palavras(palavra):\n",
    "    fatias = []\n",
    "    for i in range(len(palavra)+1):\n",
    "        fatias.append((palavra[:i],palavra[i:]))\n",
    "    palavras_geradas = insere_letras(fatias)\n",
    "    return palavras_geradas\n",
    "    \n",
    "palavras_geradas = gerador_palavras(palavra_exemplo)\n",
    "print(palavras_geradas)"
   ]
  },
  {
   "cell_type": "markdown",
   "id": "6b704d9c",
   "metadata": {},
   "source": [
    "### Função corretor"
   ]
  },
  {
   "cell_type": "code",
   "execution_count": null,
   "id": "c6fae166",
   "metadata": {},
   "outputs": [],
   "source": [
    "# Aqui vamos pegar a maior probabilidade das palavras geradas\n",
    "def corretor(palavra):\n",
    "    palavras_geradas = gerador_palavras(palavra)\n",
    "    palavra_correta = max(palavras_geradas, key=probabilidade)\n",
    "    return palavra_correta"
   ]
  },
  {
   "cell_type": "code",
   "execution_count": null,
   "id": "5df88213",
   "metadata": {},
   "outputs": [],
   "source": [
    "# Verifica a frequencia das palavras na lista de palavras normalizada\n",
    "frequencia = nltk.FreqDist(lista_normalizada)\n",
    "frequencia.most_common(10)"
   ]
  },
  {
   "cell_type": "code",
   "execution_count": null,
   "id": "927b8f19",
   "metadata": {},
   "outputs": [],
   "source": [
    "# A partir das palavras mais comuns, geramos probabilidades\n",
    "total_palavras = len(lista_normalizada)\n",
    "def probabilidade(palavra_gerada):\n",
    "    return frequencia[palavra_gerada]/total_palavras\n",
    "probabilidade('lógica')"
   ]
  },
  {
   "cell_type": "code",
   "execution_count": null,
   "id": "724699a2",
   "metadata": {
    "scrolled": true
   },
   "outputs": [],
   "source": [
    "corretor(palavra_exemplo)"
   ]
  },
  {
   "cell_type": "markdown",
   "id": "6f3283f0",
   "metadata": {},
   "source": [
    "### Criando dados teste"
   ]
  },
  {
   "cell_type": "code",
   "execution_count": null,
   "id": "30b23e8a",
   "metadata": {},
   "outputs": [],
   "source": [
    "# Aqui vamos abrir um arquivo onde na esquerda temos a palavra escrita\n",
    "# corretamente e na direita a palavra incorreta, para isso fizemos uma\n",
    "# tupla onde as linhas foram seccionadas pelo espaço e armazenadas nas\n",
    "# variaveis correta e errada.\n",
    "def cria_dados_teste(nome_arquivo):\n",
    "    lista_palavras_teste = []\n",
    "    f = open(nome_arquivo, 'r', encoding = 'utf-8')\n",
    "    for linha in f:\n",
    "        correta, errada = linha.split()\n",
    "        lista_palavras_teste.append((correta, errada))\n",
    "    f.close()\n",
    "    return lista_palavras_teste\n",
    "lista_teste = cria_dados_teste('data/palavras.txt')\n",
    "lista_teste"
   ]
  },
  {
   "cell_type": "markdown",
   "id": "82ae4dc1",
   "metadata": {},
   "source": [
    "### Função Avaliador"
   ]
  },
  {
   "cell_type": "code",
   "execution_count": null,
   "id": "784ee29f",
   "metadata": {},
   "outputs": [],
   "source": [
    "# Aqui fizemos um contador, no qual a palavra errada é passada para a função\n",
    "# corretor, dentro dessa função ela recebe o gerador de palavras e lá iremos\n",
    "# fazer o fatiamento dessa palavra incorreta e ir inserindo letras ate corrigir\n",
    "def avaliador(testes):\n",
    "    numero_palavras = len(testes)\n",
    "    acertou = 0\n",
    "    for correta, errada in testes:\n",
    "        palavra_corrigida = corretor(errada)\n",
    "        if palavra_corrigida == correta:\n",
    "            acertou += 1\n",
    "    taxa_acerto = round(acertou*100/numero_palavras, 2)\n",
    "    print('Taxa de acerto = {}% de {} palavras'.format(taxa_acerto, numero_palavras))\n",
    "avaliador(lista_teste)"
   ]
  },
  {
   "cell_type": "markdown",
   "id": "6c583951",
   "metadata": {},
   "source": [
    "### Função deleta caracteres"
   ]
  },
  {
   "cell_type": "code",
   "execution_count": null,
   "id": "3477fbb5",
   "metadata": {},
   "outputs": [],
   "source": [
    "def deletando_caracteres(fatias):\n",
    "    novas_palavras = []\n",
    "    for E, D in fatias:\n",
    "            novas_palavras.append(E + D[1:])\n",
    "    return novas_palavras"
   ]
  },
  {
   "cell_type": "markdown",
   "id": "7b6e4653",
   "metadata": {},
   "source": [
    "### Complementando o Gerador de palavras"
   ]
  },
  {
   "cell_type": "code",
   "execution_count": null,
   "id": "e5c34514",
   "metadata": {},
   "outputs": [],
   "source": [
    "# Além de inserir letras deletamos caracteres digitados incorretamente\n",
    "def gerador_palavras(palavra):\n",
    "    fatias = []\n",
    "    for i in range(len(palavra)+1):\n",
    "        fatias.append((palavra[:i],palavra[i:]))\n",
    "    palavras_geradas = insere_letras(fatias)\n",
    "    palavras_geradas += deletando_caracteres(fatias)\n",
    "    return palavras_geradas\n",
    "palavra_exemplo = 'lóigica'\n",
    "palavras_geradas = gerador_palavras(palavra_exemplo)\n",
    "print(palavras_geradas)"
   ]
  },
  {
   "cell_type": "markdown",
   "id": "24e8c23b",
   "metadata": {},
   "source": [
    "### Testando a Taxa de acerto com essas duas funções"
   ]
  },
  {
   "cell_type": "code",
   "execution_count": null,
   "id": "1c1a8bab",
   "metadata": {},
   "outputs": [],
   "source": [
    "avaliador(lista_teste)"
   ]
  },
  {
   "cell_type": "markdown",
   "id": "a1876e3d",
   "metadata": {},
   "source": [
    "### Adiciona a função troca de letras"
   ]
  },
  {
   "cell_type": "code",
   "execution_count": null,
   "id": "341677bd",
   "metadata": {},
   "outputs": [],
   "source": [
    "def troca_letra(fatias):\n",
    "    novas_palavras = []\n",
    "    letras = 'abcdefghijklmnopqrstuvwxyzàáâãèéêìíîòóôõùúûç'\n",
    "    for E, D in fatias:\n",
    "        for letra in letras:\n",
    "            novas_palavras.append(E + letra + D[1:])\n",
    "    return novas_palavras"
   ]
  },
  {
   "cell_type": "markdown",
   "id": "55f13570",
   "metadata": {},
   "source": [
    "### Adiciona a função inverter letras"
   ]
  },
  {
   "cell_type": "code",
   "execution_count": null,
   "id": "b9bec03e",
   "metadata": {},
   "outputs": [],
   "source": [
    "def inverter_letra(fatias):\n",
    "    novas_palavras = []\n",
    "    for E, D in fatias:\n",
    "        if len(D) > 1:\n",
    "            novas_palavras.append(E + D[1] + D[0] + D[2:])\n",
    "    return novas_palavras"
   ]
  },
  {
   "cell_type": "markdown",
   "id": "8b2f1b51",
   "metadata": {},
   "source": [
    "### Complementando a função gerador palavras com as novas funções"
   ]
  },
  {
   "cell_type": "code",
   "execution_count": null,
   "id": "88b26cce",
   "metadata": {},
   "outputs": [],
   "source": [
    "def gerador_palavras(palavra):\n",
    "    fatias = []\n",
    "    for i in range(len(palavra)+1):\n",
    "        fatias.append((palavra[:i],palavra[i:]))\n",
    "    palavras_geradas = insere_letras(fatias)\n",
    "    palavras_geradas += deletando_caracteres(fatias)\n",
    "    palavras_geradas += troca_letra(fatias)\n",
    "    palavras_geradas += inverter_letra(fatias)\n",
    "    return palavras_geradas\n",
    "palavra_exemplo = 'lógiac'\n",
    "palavras_geradas = gerador_palavras(palavra_exemplo)\n",
    "print(palavras_geradas)"
   ]
  },
  {
   "cell_type": "code",
   "execution_count": null,
   "id": "41f5c39e",
   "metadata": {},
   "outputs": [],
   "source": [
    "avaliador(lista_teste)"
   ]
  },
  {
   "cell_type": "markdown",
   "id": "04b6e9bd",
   "metadata": {},
   "source": [
    "## Projeto - Corretor Ortográfico"
   ]
  },
  {
   "cell_type": "code",
   "execution_count": 4,
   "id": "4ba8a16f",
   "metadata": {},
   "outputs": [
    {
     "name": "stdout",
     "output_type": "stream",
     "text": [
      "Taxa de acerto = 76.34% de 186 palavras\n"
     ]
    }
   ],
   "source": [
    "import nltk\n",
    "\n",
    "# Abre arquivo\n",
    "\n",
    "with open(\"data/artigos.txt\", \"r\", encoding = \"utf-8\") as f:\n",
    "    artigos = f.read()\n",
    "\n",
    "# Separa palavra de caracter especial    \n",
    "\n",
    "lista_tokens = nltk.tokenize.word_tokenize(artigos)\n",
    "\n",
    "# Deleta caracter especial e deixa só palavra\n",
    "\n",
    "def separa_palavras(lista_tokens):\n",
    "    lista_palavras = []\n",
    "    for token in lista_tokens:\n",
    "        if token.isalpha() == True:\n",
    "            lista_palavras.append(token)\n",
    "    return lista_palavras\n",
    "\n",
    "# A variavel recebe só palavras\n",
    "\n",
    "lista_palavras = separa_palavras(lista_tokens)\n",
    "\n",
    "# Transforma tudo pra minusculo\n",
    "\n",
    "def normalizacao(lista_palavras):\n",
    "    lista_normalizada = []\n",
    "    for palavra in lista_palavras:\n",
    "        lista_normalizada.append(palavra.lower())\n",
    "    return lista_normalizada\n",
    "\n",
    "# A variavel recebe só palavras minusculas\n",
    "\n",
    "lista_normalizada = normalizacao(lista_palavras)\n",
    "\n",
    "# Ler o arquivo e separa palavras certas e erradas\n",
    "\n",
    "def cria_dados_teste(nome_arquivo):\n",
    "    lista_palavras_teste = []\n",
    "    f = open(nome_arquivo, 'r', encoding = 'utf-8')\n",
    "    for linha in f:\n",
    "        correta, errada = linha.split()\n",
    "        lista_palavras_teste.append((correta, errada))\n",
    "    f.close()\n",
    "    return lista_palavras_teste\n",
    "\n",
    "# Atribui a variavel a tupla com palavras (correta, errada)\n",
    "\n",
    "lista_teste = cria_dados_teste('data/palavras.txt')\n",
    "\n",
    "# Pega a maior probabilidade entre todas as palavras geradas\n",
    "\n",
    "def corretor(palavra):\n",
    "    palavras_geradas = gerador_palavras(palavra)\n",
    "    palavra_correta = max(palavras_geradas, key=probabilidade)\n",
    "    return palavra_correta\n",
    "\n",
    "# Pega a frequencia de cada palavra\n",
    "\n",
    "frequencia = nltk.FreqDist(lista_normalizada)\n",
    "\n",
    "# Atribui a variavel a quantidade de palavras que temos\n",
    "\n",
    "total_palavras = len(lista_normalizada)\n",
    "\n",
    "# Pega a frequencia de cada palavra gerada e divide pelo total de palavras\n",
    "\n",
    "def probabilidade(palavra_gerada):\n",
    "    return frequencia[palavra_gerada]/total_palavras\n",
    "\n",
    "# Insere letras do alfabeto em diferentes posicoes\n",
    "\n",
    "def insere_letras(fatias):\n",
    "    novas_palavras = []\n",
    "    letras = 'abcdefghijklmnopqrstuvwxyzàáâãèéêìíîòóôõùúûç'\n",
    "    for E, D in fatias:\n",
    "        for letra in letras:\n",
    "            novas_palavras.append(E + letra + D)\n",
    "    return novas_palavras\n",
    "\n",
    "# Deleta caracteres\n",
    "\n",
    "def deletando_caracteres(fatias):\n",
    "    novas_palavras = []\n",
    "    for E, D in fatias:\n",
    "            novas_palavras.append(E + D[1:])\n",
    "    return novas_palavras\n",
    "\n",
    "# Troca letras por outras do alfabeto em diferentes posicoes\n",
    "\n",
    "def troca_letra(fatias):\n",
    "    novas_palavras = []\n",
    "    letras = 'abcdefghijklmnopqrstuvwxyzàáâãèéêìíîòóôõùúûç'\n",
    "    for E, D in fatias:\n",
    "        for letra in letras:\n",
    "            novas_palavras.append(E + letra + D[1:])\n",
    "    return novas_palavras\n",
    "\n",
    "# Inverte letras digitadas incorretamente\n",
    "\n",
    "def inverter_letra(fatias):\n",
    "    novas_palavras = []\n",
    "    for E, D in fatias:\n",
    "        if len(D) > 1:\n",
    "            novas_palavras.append(E + D[1] + D[0] + D[2:])\n",
    "    return novas_palavras\n",
    "\n",
    "# Gera palavras com as 4 funções acima\n",
    "\n",
    "def gerador_palavras(palavra):\n",
    "    fatias = []\n",
    "    for i in range(len(palavra)+1):\n",
    "        fatias.append((palavra[:i],palavra[i:]))\n",
    "    palavras_geradas = insere_letras(fatias)\n",
    "    palavras_geradas += deletando_caracteres(fatias)\n",
    "    palavras_geradas += troca_letra(fatias)\n",
    "    palavras_geradas += inverter_letra(fatias)\n",
    "    return palavras_geradas\n",
    "\n",
    "# Avalia o desempenho do nosso corretor\n",
    "\n",
    "def avaliador(testes):\n",
    "    numero_palavras = len(testes)\n",
    "    acertou = 0\n",
    "    for correta, errada in testes:\n",
    "        palavra_corrigida = corretor(errada)\n",
    "        if palavra_corrigida == correta:\n",
    "            acertou += 1\n",
    "    taxa_acerto = round(acertou*100/numero_palavras, 2)\n",
    "    print('Taxa de acerto = {}% de {} palavras'.format(taxa_acerto, numero_palavras))\n",
    "\n",
    "# Vizualizando a nossa eficiência\n",
    "    \n",
    "avaliador(lista_teste)"
   ]
  },
  {
   "cell_type": "markdown",
   "id": "d11d61e2",
   "metadata": {},
   "source": [
    "### Tentando melhorar o corretor (Sem sucesso)"
   ]
  },
  {
   "cell_type": "code",
   "execution_count": null,
   "id": "0773a04d",
   "metadata": {},
   "outputs": [],
   "source": [
    "def avaliador(testes, vocabulario):\n",
    "    numero_palavras = len(testes)\n",
    "    acertou = 0\n",
    "    desconhecida = 0\n",
    "    for correta, errada in testes:\n",
    "        palavra_corrigida = corretor(errada)\n",
    "        if palavra_corrigida == correta:\n",
    "            acertou += 1\n",
    "        else:\n",
    "            desconhecida += (correta not in vocabulario)\n",
    "    taxa_acerto = round(acertou*100/numero_palavras, 2)\n",
    "    taxa_desconhecida = round(desconhecida*100/numero_palavras, 2)\n",
    "    print('Taxa de acerto = {}% de {} palavras'.format(taxa_acerto, numero_palavras))\n",
    "    print('Taxa de palavras desconhecidas = {}%'.format(taxa_desconhecida))\n",
    "    \n",
    "vocabulario = set(lista_normalizada)    \n",
    "avaliador(lista_teste,vocabulario)"
   ]
  },
  {
   "cell_type": "code",
   "execution_count": null,
   "id": "e3854108",
   "metadata": {},
   "outputs": [],
   "source": [
    "def gerador_turbinado(palavras_geradas):\n",
    "    novas_palavras = []\n",
    "    for palavra in palavras_geradas:\n",
    "        novas_palavras += gerador_palavras(palavra)\n",
    "    return novas_palavras\n",
    "\n",
    "palavras_g = gerador_turbinado(gerador_palavras('lóiigica'))\n",
    "'lógica' in palavras_g"
   ]
  },
  {
   "cell_type": "code",
   "execution_count": null,
   "id": "fd695e48",
   "metadata": {},
   "outputs": [],
   "source": [
    "def novo_corretor(palavra):\n",
    "    palavras_geradas = gerador_palavras(palavra)\n",
    "    palavras_turbinado = gerador_turbinado(palavras_geradas)\n",
    "    todas_palavras = set(palavras_geradas + palavras_turbinado)\n",
    "    candidatos = [palavra]\n",
    "    for palavra in todas_palavras:\n",
    "        if palavra in vocabulario:\n",
    "            candidatos.append(palavra)\n",
    "    palavra_correta = max(candidatos, key=probabilidade)\n",
    "    return palavra_correta"
   ]
  },
  {
   "cell_type": "code",
   "execution_count": null,
   "id": "cf010158",
   "metadata": {},
   "outputs": [],
   "source": [
    "novo_corretor('lóiigica')"
   ]
  },
  {
   "cell_type": "code",
   "execution_count": null,
   "id": "e6a88998",
   "metadata": {},
   "outputs": [],
   "source": [
    "def avaliador(testes, vocabulario):\n",
    "    numero_palavras = len(testes)\n",
    "    acertou = 0\n",
    "    desconhecida = 0\n",
    "    for correta, errada in testes:\n",
    "        palavra_corrigida = novo_corretor(errada)\n",
    "        desconhecida += (correta not in vocabulario)\n",
    "        if palavra_corrigida == correta:\n",
    "            acertou += 1\n",
    "        else:\n",
    "            print(errada + '-' + corretor(errada) + '-' + palavra_corrigida)\n",
    "    taxa_acerto = round(acertou*100/numero_palavras, 2)\n",
    "    taxa_desconhecida = round(desconhecida*100/numero_palavras, 2)\n",
    "    print('Taxa de acerto = {}% de {} palavras'.format(taxa_acerto, numero_palavras))\n",
    "    print('Taxa de palavras desconhecidas = {}%'.format(taxa_desconhecida))\n",
    "    \n",
    "vocabulario = set(lista_normalizada)    \n",
    "avaliador(lista_teste,vocabulario)"
   ]
  },
  {
   "cell_type": "code",
   "execution_count": null,
   "id": "3172269e",
   "metadata": {},
   "outputs": [],
   "source": [
    "def avaliador(testes, vocabulario):\n",
    "    numero_palavras = len(testes)\n",
    "    acertou = 0\n",
    "    desconhecida = 0\n",
    "    for correta, errada in testes:\n",
    "        palavra_corrigida = corretor(errada)\n",
    "        desconhecida += (correta not in vocabulario)\n",
    "        if palavra_corrigida == correta:\n",
    "            acertou += 1\n",
    "    taxa_acerto = round(acertou*100/numero_palavras, 2)\n",
    "    taxa_desconhecida = round(desconhecida*100/numero_palavras, 2)\n",
    "    print('Taxa de acerto = {}% de {} palavras'.format(taxa_acerto, numero_palavras))\n",
    "    print('Taxa de palavras desconhecidas = {}%'.format(taxa_desconhecida))\n",
    "    \n",
    "vocabulario = set(lista_normalizada)    \n",
    "avaliador(lista_teste,vocabulario)"
   ]
  }
 ],
 "metadata": {
  "kernelspec": {
   "display_name": "Python 3 (ipykernel)",
   "language": "python",
   "name": "python3"
  },
  "language_info": {
   "codemirror_mode": {
    "name": "ipython",
    "version": 3
   },
   "file_extension": ".py",
   "mimetype": "text/x-python",
   "name": "python",
   "nbconvert_exporter": "python",
   "pygments_lexer": "ipython3",
   "version": "3.9.12"
  }
 },
 "nbformat": 4,
 "nbformat_minor": 5
}
